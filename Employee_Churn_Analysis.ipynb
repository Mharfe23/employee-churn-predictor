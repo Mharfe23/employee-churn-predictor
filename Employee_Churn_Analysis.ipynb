{
  "cells": [
    {
      "cell_type": "markdown",
      "metadata": {
        "id": "97xzRLNj2slO"
      },
      "source": [
        "# Sommaire\n",
        "\n",
        "#### 1. Analyse exploratoire des données\n",
        "- Importation de modules\n",
        "- Chargement d'un jeu de données\n",
        "- Enregistrement des données\n",
        "\n",
        "#### 2. Visualisation des données\n",
        "- Nombre d'employés restants\n",
        "- Détermination du nombre de projets\n",
        "- Détermination du temps passé dans l'entreprise\n",
        "- Sous-graphiques des caractéristiques\n",
        "\n",
        "#### 3. Prétraitement des données\n",
        "- Mise à l'échelle\n",
        "- Codage des étiquettes\n",
        "\n",
        "#### 4. Analyse de clustering\n",
        "- Déterminer le nombre optimal de clusters (k) à l'aide de la méthode du coude pour les k-moyennes.\n",
        "- Déterminer les clusters à l'aide des k-moyennes, puis évaluer les résultats prédits.\n",
        "\n",
        "#### 5. Construction du modèle\n",
        "- Séparation des données en ensembles d'apprentissage et de test\n",
        "- Création d'un classificateur à gradient boosting, évaluation des performances du modèle et prédiction des données de test\n",
        "- Création d'un classificateur à K voisins, évaluation des performances du modèle et prédiction des données de test\n",
        "- Création d'un classificateur à forêt aléatoire, évaluation des performances du modèle et prédiction des données de test\n",
        "\n",
        "#### 6. Déploiement du modèle\n",
        "\n",
        "- Enregistrement et exportation du modèle au format .pkl\n",
        "- Enregistrement et exportation des variables au format .pkl"
      ]
    },
    {
      "cell_type": "markdown",
      "metadata": {
        "id": "WLTGi7q02slP"
      },
      "source": [
        "## 1. Analyse exploratoire des données\n",
        "\n",
        "L'analyse exploratoire des données est un processus initial d'analyse qui permet de synthétiser les caractéristiques des données, telles que les modèles, les tendances, les valeurs aberrantes et les tests d'hypothèses, à l'aide de statistiques descriptives et de visualisation."
      ]
    },
    {
      "cell_type": "code",
      "execution_count": null,
      "metadata": {
        "execution": {
          "iopub.execute_input": "2021-06-16T07:53:15.67541Z",
          "iopub.status.busy": "2021-06-16T07:53:15.675033Z",
          "iopub.status.idle": "2021-06-16T07:53:16.36831Z",
          "shell.execute_reply": "2021-06-16T07:53:16.367503Z",
          "shell.execute_reply.started": "2021-06-16T07:53:15.675332Z"
        },
        "id": "TI19sGjE2slf",
        "trusted": true
      },
      "outputs": [],
      "source": [
        "import pandas as pd\n",
        "import numpy as np\n",
        "import matplotlib.pyplot as plt\n",
        "import seaborn as sns\n",
        "import warnings\n",
        "warnings.filterwarnings(\"ignore\")"
      ]
    },
    {
      "cell_type": "code",
      "execution_count": null,
      "metadata": {
        "colab": {
          "base_uri": "https://localhost:8080/",
          "height": 206
        },
        "execution": {
          "iopub.execute_input": "2021-06-16T07:53:16.370149Z",
          "iopub.status.busy": "2021-06-16T07:53:16.369778Z",
          "iopub.status.idle": "2021-06-16T07:53:16.437589Z",
          "shell.execute_reply": "2021-06-16T07:53:16.436855Z",
          "shell.execute_reply.started": "2021-06-16T07:53:16.370109Z"
        },
        "id": "rvS39ktq2slt",
        "outputId": "1a914a73-24b1-4ff5-a2de-2bee99af46b6",
        "trusted": true
      },
      "outputs": [
        {
          "data": {
            "application/vnd.google.colaboratory.intrinsic+json": {
              "summary": "{\n  \"name\": \"df\",\n  \"rows\": 14999,\n  \"fields\": [\n    {\n      \"column\": \"satisfaction_level\",\n      \"properties\": {\n        \"dtype\": \"number\",\n        \"std\": 0.2486306510611418,\n        \"min\": 0.09,\n        \"max\": 1.0,\n        \"num_unique_values\": 92,\n        \"samples\": [\n          0.83,\n          0.13,\n          0.55\n        ],\n        \"semantic_type\": \"\",\n        \"description\": \"\"\n      }\n    },\n    {\n      \"column\": \"last_evaluation\",\n      \"properties\": {\n        \"dtype\": \"number\",\n        \"std\": 0.17116911062327592,\n        \"min\": 0.36,\n        \"max\": 1.0,\n        \"num_unique_values\": 65,\n        \"samples\": [\n          0.66,\n          0.44,\n          0.53\n        ],\n        \"semantic_type\": \"\",\n        \"description\": \"\"\n      }\n    },\n    {\n      \"column\": \"number_project\",\n      \"properties\": {\n        \"dtype\": \"number\",\n        \"std\": 1,\n        \"min\": 2,\n        \"max\": 7,\n        \"num_unique_values\": 6,\n        \"samples\": [\n          2,\n          5,\n          3\n        ],\n        \"semantic_type\": \"\",\n        \"description\": \"\"\n      }\n    },\n    {\n      \"column\": \"average_montly_hours\",\n      \"properties\": {\n        \"dtype\": \"number\",\n        \"std\": 49,\n        \"min\": 96,\n        \"max\": 310,\n        \"num_unique_values\": 215,\n        \"samples\": [\n          118,\n          112,\n          222\n        ],\n        \"semantic_type\": \"\",\n        \"description\": \"\"\n      }\n    },\n    {\n      \"column\": \"time_spend_company\",\n      \"properties\": {\n        \"dtype\": \"number\",\n        \"std\": 1,\n        \"min\": 2,\n        \"max\": 10,\n        \"num_unique_values\": 8,\n        \"samples\": [\n          6,\n          8,\n          3\n        ],\n        \"semantic_type\": \"\",\n        \"description\": \"\"\n      }\n    },\n    {\n      \"column\": \"Work_accident\",\n      \"properties\": {\n        \"dtype\": \"number\",\n        \"std\": 0,\n        \"min\": 0,\n        \"max\": 1,\n        \"num_unique_values\": 2,\n        \"samples\": [\n          1,\n          0\n        ],\n        \"semantic_type\": \"\",\n        \"description\": \"\"\n      }\n    },\n    {\n      \"column\": \"left\",\n      \"properties\": {\n        \"dtype\": \"number\",\n        \"std\": 0,\n        \"min\": 0,\n        \"max\": 1,\n        \"num_unique_values\": 2,\n        \"samples\": [\n          0,\n          1\n        ],\n        \"semantic_type\": \"\",\n        \"description\": \"\"\n      }\n    },\n    {\n      \"column\": \"promotion_last_5years\",\n      \"properties\": {\n        \"dtype\": \"number\",\n        \"std\": 0,\n        \"min\": 0,\n        \"max\": 1,\n        \"num_unique_values\": 2,\n        \"samples\": [\n          1,\n          0\n        ],\n        \"semantic_type\": \"\",\n        \"description\": \"\"\n      }\n    },\n    {\n      \"column\": \"Department\",\n      \"properties\": {\n        \"dtype\": \"category\",\n        \"num_unique_values\": 10,\n        \"samples\": [\n          \"marketing\",\n          \"accounting\"\n        ],\n        \"semantic_type\": \"\",\n        \"description\": \"\"\n      }\n    },\n    {\n      \"column\": \"salary\",\n      \"properties\": {\n        \"dtype\": \"category\",\n        \"num_unique_values\": 3,\n        \"samples\": [\n          \"low\",\n          \"medium\"\n        ],\n        \"semantic_type\": \"\",\n        \"description\": \"\"\n      }\n    }\n  ]\n}",
              "type": "dataframe",
              "variable_name": "df"
            },
            "text/html": [
              "\n",
              "  <div id=\"df-c7a2ecec-c443-4e06-8b17-9f162d1ee87e\" class=\"colab-df-container\">\n",
              "    <div>\n",
              "<style scoped>\n",
              "    .dataframe tbody tr th:only-of-type {\n",
              "        vertical-align: middle;\n",
              "    }\n",
              "\n",
              "    .dataframe tbody tr th {\n",
              "        vertical-align: top;\n",
              "    }\n",
              "\n",
              "    .dataframe thead th {\n",
              "        text-align: right;\n",
              "    }\n",
              "</style>\n",
              "<table border=\"1\" class=\"dataframe\">\n",
              "  <thead>\n",
              "    <tr style=\"text-align: right;\">\n",
              "      <th></th>\n",
              "      <th>satisfaction_level</th>\n",
              "      <th>last_evaluation</th>\n",
              "      <th>number_project</th>\n",
              "      <th>average_montly_hours</th>\n",
              "      <th>time_spend_company</th>\n",
              "      <th>Work_accident</th>\n",
              "      <th>left</th>\n",
              "      <th>promotion_last_5years</th>\n",
              "      <th>Department</th>\n",
              "      <th>salary</th>\n",
              "    </tr>\n",
              "  </thead>\n",
              "  <tbody>\n",
              "    <tr>\n",
              "      <th>0</th>\n",
              "      <td>0.38</td>\n",
              "      <td>0.53</td>\n",
              "      <td>2</td>\n",
              "      <td>157</td>\n",
              "      <td>3</td>\n",
              "      <td>0</td>\n",
              "      <td>1</td>\n",
              "      <td>0</td>\n",
              "      <td>sales</td>\n",
              "      <td>low</td>\n",
              "    </tr>\n",
              "    <tr>\n",
              "      <th>1</th>\n",
              "      <td>0.80</td>\n",
              "      <td>0.86</td>\n",
              "      <td>5</td>\n",
              "      <td>262</td>\n",
              "      <td>6</td>\n",
              "      <td>0</td>\n",
              "      <td>1</td>\n",
              "      <td>0</td>\n",
              "      <td>sales</td>\n",
              "      <td>medium</td>\n",
              "    </tr>\n",
              "    <tr>\n",
              "      <th>2</th>\n",
              "      <td>0.11</td>\n",
              "      <td>0.88</td>\n",
              "      <td>7</td>\n",
              "      <td>272</td>\n",
              "      <td>4</td>\n",
              "      <td>0</td>\n",
              "      <td>1</td>\n",
              "      <td>0</td>\n",
              "      <td>sales</td>\n",
              "      <td>medium</td>\n",
              "    </tr>\n",
              "    <tr>\n",
              "      <th>3</th>\n",
              "      <td>0.72</td>\n",
              "      <td>0.87</td>\n",
              "      <td>5</td>\n",
              "      <td>223</td>\n",
              "      <td>5</td>\n",
              "      <td>0</td>\n",
              "      <td>1</td>\n",
              "      <td>0</td>\n",
              "      <td>sales</td>\n",
              "      <td>low</td>\n",
              "    </tr>\n",
              "    <tr>\n",
              "      <th>4</th>\n",
              "      <td>0.37</td>\n",
              "      <td>0.52</td>\n",
              "      <td>2</td>\n",
              "      <td>159</td>\n",
              "      <td>3</td>\n",
              "      <td>0</td>\n",
              "      <td>1</td>\n",
              "      <td>0</td>\n",
              "      <td>sales</td>\n",
              "      <td>low</td>\n",
              "    </tr>\n",
              "  </tbody>\n",
              "</table>\n",
              "</div>\n",
              "    <div class=\"colab-df-buttons\">\n",
              "\n",
              "  <div class=\"colab-df-container\">\n",
              "    <button class=\"colab-df-convert\" onclick=\"convertToInteractive('df-c7a2ecec-c443-4e06-8b17-9f162d1ee87e')\"\n",
              "            title=\"Convert this dataframe to an interactive table.\"\n",
              "            style=\"display:none;\">\n",
              "\n",
              "  <svg xmlns=\"http://www.w3.org/2000/svg\" height=\"24px\" viewBox=\"0 -960 960 960\">\n",
              "    <path d=\"M120-120v-720h720v720H120Zm60-500h600v-160H180v160Zm220 220h160v-160H400v160Zm0 220h160v-160H400v160ZM180-400h160v-160H180v160Zm440 0h160v-160H620v160ZM180-180h160v-160H180v160Zm440 0h160v-160H620v160Z\"/>\n",
              "  </svg>\n",
              "    </button>\n",
              "\n",
              "  <style>\n",
              "    .colab-df-container {\n",
              "      display:flex;\n",
              "      gap: 12px;\n",
              "    }\n",
              "\n",
              "    .colab-df-convert {\n",
              "      background-color: #E8F0FE;\n",
              "      border: none;\n",
              "      border-radius: 50%;\n",
              "      cursor: pointer;\n",
              "      display: none;\n",
              "      fill: #1967D2;\n",
              "      height: 32px;\n",
              "      padding: 0 0 0 0;\n",
              "      width: 32px;\n",
              "    }\n",
              "\n",
              "    .colab-df-convert:hover {\n",
              "      background-color: #E2EBFA;\n",
              "      box-shadow: 0px 1px 2px rgba(60, 64, 67, 0.3), 0px 1px 3px 1px rgba(60, 64, 67, 0.15);\n",
              "      fill: #174EA6;\n",
              "    }\n",
              "\n",
              "    .colab-df-buttons div {\n",
              "      margin-bottom: 4px;\n",
              "    }\n",
              "\n",
              "    [theme=dark] .colab-df-convert {\n",
              "      background-color: #3B4455;\n",
              "      fill: #D2E3FC;\n",
              "    }\n",
              "\n",
              "    [theme=dark] .colab-df-convert:hover {\n",
              "      background-color: #434B5C;\n",
              "      box-shadow: 0px 1px 3px 1px rgba(0, 0, 0, 0.15);\n",
              "      filter: drop-shadow(0px 1px 2px rgba(0, 0, 0, 0.3));\n",
              "      fill: #FFFFFF;\n",
              "    }\n",
              "  </style>\n",
              "\n",
              "    <script>\n",
              "      const buttonEl =\n",
              "        document.querySelector('#df-c7a2ecec-c443-4e06-8b17-9f162d1ee87e button.colab-df-convert');\n",
              "      buttonEl.style.display =\n",
              "        google.colab.kernel.accessAllowed ? 'block' : 'none';\n",
              "\n",
              "      async function convertToInteractive(key) {\n",
              "        const element = document.querySelector('#df-c7a2ecec-c443-4e06-8b17-9f162d1ee87e');\n",
              "        const dataTable =\n",
              "          await google.colab.kernel.invokeFunction('convertToInteractive',\n",
              "                                                    [key], {});\n",
              "        if (!dataTable) return;\n",
              "\n",
              "        const docLinkHtml = 'Like what you see? Visit the ' +\n",
              "          '<a target=\"_blank\" href=https://colab.research.google.com/notebooks/data_table.ipynb>data table notebook</a>'\n",
              "          + ' to learn more about interactive tables.';\n",
              "        element.innerHTML = '';\n",
              "        dataTable['output_type'] = 'display_data';\n",
              "        await google.colab.output.renderOutput(dataTable, element);\n",
              "        const docLink = document.createElement('div');\n",
              "        docLink.innerHTML = docLinkHtml;\n",
              "        element.appendChild(docLink);\n",
              "      }\n",
              "    </script>\n",
              "  </div>\n",
              "\n",
              "\n",
              "    <div id=\"df-863d1a08-ac18-485e-9268-418de88c998b\">\n",
              "      <button class=\"colab-df-quickchart\" onclick=\"quickchart('df-863d1a08-ac18-485e-9268-418de88c998b')\"\n",
              "                title=\"Suggest charts\"\n",
              "                style=\"display:none;\">\n",
              "\n",
              "<svg xmlns=\"http://www.w3.org/2000/svg\" height=\"24px\"viewBox=\"0 0 24 24\"\n",
              "     width=\"24px\">\n",
              "    <g>\n",
              "        <path d=\"M19 3H5c-1.1 0-2 .9-2 2v14c0 1.1.9 2 2 2h14c1.1 0 2-.9 2-2V5c0-1.1-.9-2-2-2zM9 17H7v-7h2v7zm4 0h-2V7h2v10zm4 0h-2v-4h2v4z\"/>\n",
              "    </g>\n",
              "</svg>\n",
              "      </button>\n",
              "\n",
              "<style>\n",
              "  .colab-df-quickchart {\n",
              "      --bg-color: #E8F0FE;\n",
              "      --fill-color: #1967D2;\n",
              "      --hover-bg-color: #E2EBFA;\n",
              "      --hover-fill-color: #174EA6;\n",
              "      --disabled-fill-color: #AAA;\n",
              "      --disabled-bg-color: #DDD;\n",
              "  }\n",
              "\n",
              "  [theme=dark] .colab-df-quickchart {\n",
              "      --bg-color: #3B4455;\n",
              "      --fill-color: #D2E3FC;\n",
              "      --hover-bg-color: #434B5C;\n",
              "      --hover-fill-color: #FFFFFF;\n",
              "      --disabled-bg-color: #3B4455;\n",
              "      --disabled-fill-color: #666;\n",
              "  }\n",
              "\n",
              "  .colab-df-quickchart {\n",
              "    background-color: var(--bg-color);\n",
              "    border: none;\n",
              "    border-radius: 50%;\n",
              "    cursor: pointer;\n",
              "    display: none;\n",
              "    fill: var(--fill-color);\n",
              "    height: 32px;\n",
              "    padding: 0;\n",
              "    width: 32px;\n",
              "  }\n",
              "\n",
              "  .colab-df-quickchart:hover {\n",
              "    background-color: var(--hover-bg-color);\n",
              "    box-shadow: 0 1px 2px rgba(60, 64, 67, 0.3), 0 1px 3px 1px rgba(60, 64, 67, 0.15);\n",
              "    fill: var(--button-hover-fill-color);\n",
              "  }\n",
              "\n",
              "  .colab-df-quickchart-complete:disabled,\n",
              "  .colab-df-quickchart-complete:disabled:hover {\n",
              "    background-color: var(--disabled-bg-color);\n",
              "    fill: var(--disabled-fill-color);\n",
              "    box-shadow: none;\n",
              "  }\n",
              "\n",
              "  .colab-df-spinner {\n",
              "    border: 2px solid var(--fill-color);\n",
              "    border-color: transparent;\n",
              "    border-bottom-color: var(--fill-color);\n",
              "    animation:\n",
              "      spin 1s steps(1) infinite;\n",
              "  }\n",
              "\n",
              "  @keyframes spin {\n",
              "    0% {\n",
              "      border-color: transparent;\n",
              "      border-bottom-color: var(--fill-color);\n",
              "      border-left-color: var(--fill-color);\n",
              "    }\n",
              "    20% {\n",
              "      border-color: transparent;\n",
              "      border-left-color: var(--fill-color);\n",
              "      border-top-color: var(--fill-color);\n",
              "    }\n",
              "    30% {\n",
              "      border-color: transparent;\n",
              "      border-left-color: var(--fill-color);\n",
              "      border-top-color: var(--fill-color);\n",
              "      border-right-color: var(--fill-color);\n",
              "    }\n",
              "    40% {\n",
              "      border-color: transparent;\n",
              "      border-right-color: var(--fill-color);\n",
              "      border-top-color: var(--fill-color);\n",
              "    }\n",
              "    60% {\n",
              "      border-color: transparent;\n",
              "      border-right-color: var(--fill-color);\n",
              "    }\n",
              "    80% {\n",
              "      border-color: transparent;\n",
              "      border-right-color: var(--fill-color);\n",
              "      border-bottom-color: var(--fill-color);\n",
              "    }\n",
              "    90% {\n",
              "      border-color: transparent;\n",
              "      border-bottom-color: var(--fill-color);\n",
              "    }\n",
              "  }\n",
              "</style>\n",
              "\n",
              "      <script>\n",
              "        async function quickchart(key) {\n",
              "          const quickchartButtonEl =\n",
              "            document.querySelector('#' + key + ' button');\n",
              "          quickchartButtonEl.disabled = true;  // To prevent multiple clicks.\n",
              "          quickchartButtonEl.classList.add('colab-df-spinner');\n",
              "          try {\n",
              "            const charts = await google.colab.kernel.invokeFunction(\n",
              "                'suggestCharts', [key], {});\n",
              "          } catch (error) {\n",
              "            console.error('Error during call to suggestCharts:', error);\n",
              "          }\n",
              "          quickchartButtonEl.classList.remove('colab-df-spinner');\n",
              "          quickchartButtonEl.classList.add('colab-df-quickchart-complete');\n",
              "        }\n",
              "        (() => {\n",
              "          let quickchartButtonEl =\n",
              "            document.querySelector('#df-863d1a08-ac18-485e-9268-418de88c998b button');\n",
              "          quickchartButtonEl.style.display =\n",
              "            google.colab.kernel.accessAllowed ? 'block' : 'none';\n",
              "        })();\n",
              "      </script>\n",
              "    </div>\n",
              "\n",
              "    </div>\n",
              "  </div>\n"
            ],
            "text/plain": [
              "   satisfaction_level  last_evaluation  number_project  average_montly_hours  \\\n",
              "0                0.38             0.53               2                   157   \n",
              "1                0.80             0.86               5                   262   \n",
              "2                0.11             0.88               7                   272   \n",
              "3                0.72             0.87               5                   223   \n",
              "4                0.37             0.52               2                   159   \n",
              "\n",
              "   time_spend_company  Work_accident  left  promotion_last_5years Department  \\\n",
              "0                   3              0     1                      0      sales   \n",
              "1                   6              0     1                      0      sales   \n",
              "2                   4              0     1                      0      sales   \n",
              "3                   5              0     1                      0      sales   \n",
              "4                   3              0     1                      0      sales   \n",
              "\n",
              "   salary  \n",
              "0     low  \n",
              "1  medium  \n",
              "2  medium  \n",
              "3     low  \n",
              "4     low  "
            ]
          },
          "execution_count": 5,
          "metadata": {},
          "output_type": "execute_result"
        }
      ],
      "source": [
        "df=pd.read_csv('HR_comma_sep.csv')\n",
        "df.head()"
      ]
    },
    {
      "cell_type": "code",
      "execution_count": null,
      "metadata": {
        "execution": {
          "iopub.execute_input": "2021-06-16T07:53:16.439823Z",
          "iopub.status.busy": "2021-06-16T07:53:16.439488Z",
          "iopub.status.idle": "2021-06-16T07:53:16.445123Z",
          "shell.execute_reply": "2021-06-16T07:53:16.444113Z",
          "shell.execute_reply.started": "2021-06-16T07:53:16.439789Z"
        },
        "id": "TRSM748D5cfQ",
        "trusted": true
      },
      "outputs": [],
      "source": [
        "def explain(attribute):\n",
        "    features= {'satisfaction_level': \"It is employee satisfaction point, which ranges from 0-1.\",\n",
        "    'last_evaluation': 'It is evaluated performance by the employer, which also ranges from 0-1.',\n",
        "    'number_projects': 'How many of projects assigned to an employee?',\n",
        "    'average_monthly_hours': 'How many hours in averega an employee worked in a month?',\n",
        "    'time_spent_company': 'time_spent_company means employee experience. The number of years spent by an employee in the company.',\n",
        "    'work_accident': 'Whether an employee has had a work accident or not.',\n",
        "    'promotion_last_5years': 'Whether an employee has had a promotion in the last 5 years or not.',\n",
        "    'Department': \"Employee's working department/division.\",\n",
        "    'Salary': \"Salary level of the employee such as low, medium and high.\",\n",
        "    'left': \"Whether the employee has left the company or not.\"}\n",
        "    return features[attribute]"
      ]
    },
    {
      "cell_type": "code",
      "execution_count": null,
      "metadata": {
        "colab": {
          "base_uri": "https://localhost:8080/",
          "height": 147
        },
        "execution": {
          "iopub.execute_input": "2021-06-16T07:53:16.447322Z",
          "iopub.status.busy": "2021-06-16T07:53:16.446956Z",
          "iopub.status.idle": "2021-06-16T07:53:16.46783Z",
          "shell.execute_reply": "2021-06-16T07:53:16.466834Z",
          "shell.execute_reply.started": "2021-06-16T07:53:16.447286Z"
        },
        "id": "KiVbFk9w5cfQ",
        "outputId": "2ab808de-5099-4258-dfc8-51d89956d92d",
        "trusted": true
      },
      "outputs": [
        {
          "data": {
            "text/html": [
              "<div>\n",
              "<style scoped>\n",
              "    .dataframe tbody tr th:only-of-type {\n",
              "        vertical-align: middle;\n",
              "    }\n",
              "\n",
              "    .dataframe tbody tr th {\n",
              "        vertical-align: top;\n",
              "    }\n",
              "\n",
              "    .dataframe thead th {\n",
              "        text-align: right;\n",
              "    }\n",
              "</style>\n",
              "<table border=\"1\" class=\"dataframe\">\n",
              "  <thead>\n",
              "    <tr style=\"text-align: right;\">\n",
              "      <th></th>\n",
              "      <th>count</th>\n",
              "    </tr>\n",
              "  </thead>\n",
              "  <tbody>\n",
              "    <tr>\n",
              "      <th>False</th>\n",
              "      <td>11991</td>\n",
              "    </tr>\n",
              "    <tr>\n",
              "      <th>True</th>\n",
              "      <td>3008</td>\n",
              "    </tr>\n",
              "  </tbody>\n",
              "</table>\n",
              "</div><br><label><b>dtype:</b> int64</label>"
            ],
            "text/plain": [
              "False    11991\n",
              "True      3008\n",
              "Name: count, dtype: int64"
            ]
          },
          "execution_count": 7,
          "metadata": {},
          "output_type": "execute_result"
        }
      ],
      "source": [
        "df.duplicated().value_counts()"
      ]
    },
    {
      "cell_type": "code",
      "execution_count": null,
      "metadata": {
        "execution": {
          "iopub.execute_input": "2021-06-16T07:53:16.469657Z",
          "iopub.status.busy": "2021-06-16T07:53:16.469264Z",
          "iopub.status.idle": "2021-06-16T07:53:16.473637Z",
          "shell.execute_reply": "2021-06-16T07:53:16.47246Z",
          "shell.execute_reply.started": "2021-06-16T07:53:16.469622Z"
        },
        "id": "lQGir9mM5cfR",
        "trusted": true
      },
      "outputs": [],
      "source": [
        "df=df.drop_duplicates()"
      ]
    },
    {
      "cell_type": "code",
      "execution_count": null,
      "metadata": {
        "execution": {
          "iopub.execute_input": "2021-06-16T07:53:16.475975Z",
          "iopub.status.busy": "2021-06-16T07:53:16.475343Z",
          "iopub.status.idle": "2021-06-16T07:53:16.48553Z",
          "shell.execute_reply": "2021-06-16T07:53:16.484723Z",
          "shell.execute_reply.started": "2021-06-16T07:53:16.475938Z"
        },
        "id": "l_SrXSbA5cfR",
        "trusted": true
      },
      "outputs": [],
      "source": [
        "def summary(df, pred=None):\n",
        "    obs = df.shape[0]\n",
        "    Types = df.dtypes\n",
        "    Counts = df.apply(lambda x: x.count())\n",
        "    Min = df.min()\n",
        "    Max = df.max()\n",
        "    Uniques = df.apply(lambda x: x.unique().shape[0])\n",
        "    Nulls = df.apply(lambda x: x.isnull().sum())\n",
        "    print('Data shape:', df.shape)\n",
        "\n",
        "    if pred is None:\n",
        "        cols = ['Types', 'Counts', 'Uniques', 'Nulls', 'Min', 'Max']\n",
        "        str = pd.concat([Types, Counts, Uniques, Nulls, Min, Max], axis = 1, sort=True)\n",
        "\n",
        "    str.columns = cols\n",
        "    print('___________________________\\nData Types:')\n",
        "    print(str.Types.value_counts())\n",
        "    print('___________________________')\n",
        "    return str\n",
        "\n",
        "# display(summary(df).sort_values(by='Nulls', ascending=False))"
      ]
    },
    {
      "cell_type": "code",
      "execution_count": null,
      "metadata": {
        "colab": {
          "base_uri": "https://localhost:8080/",
          "height": 519
        },
        "execution": {
          "iopub.execute_input": "2021-06-16T07:53:16.487161Z",
          "iopub.status.busy": "2021-06-16T07:53:16.486799Z",
          "iopub.status.idle": "2021-06-16T07:53:16.5354Z",
          "shell.execute_reply": "2021-06-16T07:53:16.534331Z",
          "shell.execute_reply.started": "2021-06-16T07:53:16.487125Z"
        },
        "id": "iL6C8z1J5cfS",
        "outputId": "cfcd2c46-76b0-4ece-a1aa-7d874a90d100",
        "trusted": true
      },
      "outputs": [
        {
          "name": "stdout",
          "output_type": "stream",
          "text": [
            "Data shape: (11991, 10)\n",
            "___________________________\n",
            "Data Types:\n",
            "Types\n",
            "int64      6\n",
            "object     2\n",
            "float64    2\n",
            "Name: count, dtype: int64\n",
            "___________________________\n"
          ]
        },
        {
          "data": {
            "application/vnd.google.colaboratory.intrinsic+json": {
              "summary": "{\n  \"name\": \"summary(df)\",\n  \"rows\": 10,\n  \"fields\": [\n    {\n      \"column\": \"Types\",\n      \"properties\": {\n        \"dtype\": \"category\",\n        \"num_unique_values\": 3,\n        \"samples\": [\n          \"object\",\n          \"int64\",\n          \"float64\"\n        ],\n        \"semantic_type\": \"\",\n        \"description\": \"\"\n      }\n    },\n    {\n      \"column\": \"Counts\",\n      \"properties\": {\n        \"dtype\": \"number\",\n        \"std\": 0,\n        \"min\": 11991,\n        \"max\": 11991,\n        \"num_unique_values\": 1,\n        \"samples\": [\n          11991\n        ],\n        \"semantic_type\": \"\",\n        \"description\": \"\"\n      }\n    },\n    {\n      \"column\": \"Uniques\",\n      \"properties\": {\n        \"dtype\": \"number\",\n        \"std\": 68,\n        \"min\": 2,\n        \"max\": 215,\n        \"num_unique_values\": 8,\n        \"samples\": [\n          2\n        ],\n        \"semantic_type\": \"\",\n        \"description\": \"\"\n      }\n    },\n    {\n      \"column\": \"Nulls\",\n      \"properties\": {\n        \"dtype\": \"number\",\n        \"std\": 0,\n        \"min\": 0,\n        \"max\": 0,\n        \"num_unique_values\": 1,\n        \"samples\": [\n          0\n        ],\n        \"semantic_type\": \"\",\n        \"description\": \"\"\n      }\n    },\n    {\n      \"column\": \"Min\",\n      \"properties\": {\n        \"dtype\": \"string\",\n        \"num_unique_values\": 7,\n        \"samples\": [\n          \"IT\"\n        ],\n        \"semantic_type\": \"\",\n        \"description\": \"\"\n      }\n    },\n    {\n      \"column\": \"Max\",\n      \"properties\": {\n        \"dtype\": \"string\",\n        \"num_unique_values\": 6,\n        \"samples\": [\n          \"technical\"\n        ],\n        \"semantic_type\": \"\",\n        \"description\": \"\"\n      }\n    }\n  ]\n}",
              "type": "dataframe"
            },
            "text/html": [
              "\n",
              "  <div id=\"df-36983c89-5a37-4365-a773-4d2c99d76c8b\" class=\"colab-df-container\">\n",
              "    <div>\n",
              "<style scoped>\n",
              "    .dataframe tbody tr th:only-of-type {\n",
              "        vertical-align: middle;\n",
              "    }\n",
              "\n",
              "    .dataframe tbody tr th {\n",
              "        vertical-align: top;\n",
              "    }\n",
              "\n",
              "    .dataframe thead th {\n",
              "        text-align: right;\n",
              "    }\n",
              "</style>\n",
              "<table border=\"1\" class=\"dataframe\">\n",
              "  <thead>\n",
              "    <tr style=\"text-align: right;\">\n",
              "      <th></th>\n",
              "      <th>Types</th>\n",
              "      <th>Counts</th>\n",
              "      <th>Uniques</th>\n",
              "      <th>Nulls</th>\n",
              "      <th>Min</th>\n",
              "      <th>Max</th>\n",
              "    </tr>\n",
              "  </thead>\n",
              "  <tbody>\n",
              "    <tr>\n",
              "      <th>Department</th>\n",
              "      <td>object</td>\n",
              "      <td>11991</td>\n",
              "      <td>10</td>\n",
              "      <td>0</td>\n",
              "      <td>IT</td>\n",
              "      <td>technical</td>\n",
              "    </tr>\n",
              "    <tr>\n",
              "      <th>Work_accident</th>\n",
              "      <td>int64</td>\n",
              "      <td>11991</td>\n",
              "      <td>2</td>\n",
              "      <td>0</td>\n",
              "      <td>0</td>\n",
              "      <td>1</td>\n",
              "    </tr>\n",
              "    <tr>\n",
              "      <th>average_montly_hours</th>\n",
              "      <td>int64</td>\n",
              "      <td>11991</td>\n",
              "      <td>215</td>\n",
              "      <td>0</td>\n",
              "      <td>96</td>\n",
              "      <td>310</td>\n",
              "    </tr>\n",
              "    <tr>\n",
              "      <th>last_evaluation</th>\n",
              "      <td>float64</td>\n",
              "      <td>11991</td>\n",
              "      <td>65</td>\n",
              "      <td>0</td>\n",
              "      <td>0.36</td>\n",
              "      <td>1.0</td>\n",
              "    </tr>\n",
              "    <tr>\n",
              "      <th>left</th>\n",
              "      <td>int64</td>\n",
              "      <td>11991</td>\n",
              "      <td>2</td>\n",
              "      <td>0</td>\n",
              "      <td>0</td>\n",
              "      <td>1</td>\n",
              "    </tr>\n",
              "    <tr>\n",
              "      <th>number_project</th>\n",
              "      <td>int64</td>\n",
              "      <td>11991</td>\n",
              "      <td>6</td>\n",
              "      <td>0</td>\n",
              "      <td>2</td>\n",
              "      <td>7</td>\n",
              "    </tr>\n",
              "    <tr>\n",
              "      <th>promotion_last_5years</th>\n",
              "      <td>int64</td>\n",
              "      <td>11991</td>\n",
              "      <td>2</td>\n",
              "      <td>0</td>\n",
              "      <td>0</td>\n",
              "      <td>1</td>\n",
              "    </tr>\n",
              "    <tr>\n",
              "      <th>salary</th>\n",
              "      <td>object</td>\n",
              "      <td>11991</td>\n",
              "      <td>3</td>\n",
              "      <td>0</td>\n",
              "      <td>high</td>\n",
              "      <td>medium</td>\n",
              "    </tr>\n",
              "    <tr>\n",
              "      <th>satisfaction_level</th>\n",
              "      <td>float64</td>\n",
              "      <td>11991</td>\n",
              "      <td>92</td>\n",
              "      <td>0</td>\n",
              "      <td>0.09</td>\n",
              "      <td>1.0</td>\n",
              "    </tr>\n",
              "    <tr>\n",
              "      <th>time_spend_company</th>\n",
              "      <td>int64</td>\n",
              "      <td>11991</td>\n",
              "      <td>8</td>\n",
              "      <td>0</td>\n",
              "      <td>2</td>\n",
              "      <td>10</td>\n",
              "    </tr>\n",
              "  </tbody>\n",
              "</table>\n",
              "</div>\n",
              "    <div class=\"colab-df-buttons\">\n",
              "\n",
              "  <div class=\"colab-df-container\">\n",
              "    <button class=\"colab-df-convert\" onclick=\"convertToInteractive('df-36983c89-5a37-4365-a773-4d2c99d76c8b')\"\n",
              "            title=\"Convert this dataframe to an interactive table.\"\n",
              "            style=\"display:none;\">\n",
              "\n",
              "  <svg xmlns=\"http://www.w3.org/2000/svg\" height=\"24px\" viewBox=\"0 -960 960 960\">\n",
              "    <path d=\"M120-120v-720h720v720H120Zm60-500h600v-160H180v160Zm220 220h160v-160H400v160Zm0 220h160v-160H400v160ZM180-400h160v-160H180v160Zm440 0h160v-160H620v160ZM180-180h160v-160H180v160Zm440 0h160v-160H620v160Z\"/>\n",
              "  </svg>\n",
              "    </button>\n",
              "\n",
              "  <style>\n",
              "    .colab-df-container {\n",
              "      display:flex;\n",
              "      gap: 12px;\n",
              "    }\n",
              "\n",
              "    .colab-df-convert {\n",
              "      background-color: #E8F0FE;\n",
              "      border: none;\n",
              "      border-radius: 50%;\n",
              "      cursor: pointer;\n",
              "      display: none;\n",
              "      fill: #1967D2;\n",
              "      height: 32px;\n",
              "      padding: 0 0 0 0;\n",
              "      width: 32px;\n",
              "    }\n",
              "\n",
              "    .colab-df-convert:hover {\n",
              "      background-color: #E2EBFA;\n",
              "      box-shadow: 0px 1px 2px rgba(60, 64, 67, 0.3), 0px 1px 3px 1px rgba(60, 64, 67, 0.15);\n",
              "      fill: #174EA6;\n",
              "    }\n",
              "\n",
              "    .colab-df-buttons div {\n",
              "      margin-bottom: 4px;\n",
              "    }\n",
              "\n",
              "    [theme=dark] .colab-df-convert {\n",
              "      background-color: #3B4455;\n",
              "      fill: #D2E3FC;\n",
              "    }\n",
              "\n",
              "    [theme=dark] .colab-df-convert:hover {\n",
              "      background-color: #434B5C;\n",
              "      box-shadow: 0px 1px 3px 1px rgba(0, 0, 0, 0.15);\n",
              "      filter: drop-shadow(0px 1px 2px rgba(0, 0, 0, 0.3));\n",
              "      fill: #FFFFFF;\n",
              "    }\n",
              "  </style>\n",
              "\n",
              "    <script>\n",
              "      const buttonEl =\n",
              "        document.querySelector('#df-36983c89-5a37-4365-a773-4d2c99d76c8b button.colab-df-convert');\n",
              "      buttonEl.style.display =\n",
              "        google.colab.kernel.accessAllowed ? 'block' : 'none';\n",
              "\n",
              "      async function convertToInteractive(key) {\n",
              "        const element = document.querySelector('#df-36983c89-5a37-4365-a773-4d2c99d76c8b');\n",
              "        const dataTable =\n",
              "          await google.colab.kernel.invokeFunction('convertToInteractive',\n",
              "                                                    [key], {});\n",
              "        if (!dataTable) return;\n",
              "\n",
              "        const docLinkHtml = 'Like what you see? Visit the ' +\n",
              "          '<a target=\"_blank\" href=https://colab.research.google.com/notebooks/data_table.ipynb>data table notebook</a>'\n",
              "          + ' to learn more about interactive tables.';\n",
              "        element.innerHTML = '';\n",
              "        dataTable['output_type'] = 'display_data';\n",
              "        await google.colab.output.renderOutput(dataTable, element);\n",
              "        const docLink = document.createElement('div');\n",
              "        docLink.innerHTML = docLinkHtml;\n",
              "        element.appendChild(docLink);\n",
              "      }\n",
              "    </script>\n",
              "  </div>\n",
              "\n",
              "\n",
              "    <div id=\"df-9a64d5b6-4b14-4240-9ad2-9549f46711b4\">\n",
              "      <button class=\"colab-df-quickchart\" onclick=\"quickchart('df-9a64d5b6-4b14-4240-9ad2-9549f46711b4')\"\n",
              "                title=\"Suggest charts\"\n",
              "                style=\"display:none;\">\n",
              "\n",
              "<svg xmlns=\"http://www.w3.org/2000/svg\" height=\"24px\"viewBox=\"0 0 24 24\"\n",
              "     width=\"24px\">\n",
              "    <g>\n",
              "        <path d=\"M19 3H5c-1.1 0-2 .9-2 2v14c0 1.1.9 2 2 2h14c1.1 0 2-.9 2-2V5c0-1.1-.9-2-2-2zM9 17H7v-7h2v7zm4 0h-2V7h2v10zm4 0h-2v-4h2v4z\"/>\n",
              "    </g>\n",
              "</svg>\n",
              "      </button>\n",
              "\n",
              "<style>\n",
              "  .colab-df-quickchart {\n",
              "      --bg-color: #E8F0FE;\n",
              "      --fill-color: #1967D2;\n",
              "      --hover-bg-color: #E2EBFA;\n",
              "      --hover-fill-color: #174EA6;\n",
              "      --disabled-fill-color: #AAA;\n",
              "      --disabled-bg-color: #DDD;\n",
              "  }\n",
              "\n",
              "  [theme=dark] .colab-df-quickchart {\n",
              "      --bg-color: #3B4455;\n",
              "      --fill-color: #D2E3FC;\n",
              "      --hover-bg-color: #434B5C;\n",
              "      --hover-fill-color: #FFFFFF;\n",
              "      --disabled-bg-color: #3B4455;\n",
              "      --disabled-fill-color: #666;\n",
              "  }\n",
              "\n",
              "  .colab-df-quickchart {\n",
              "    background-color: var(--bg-color);\n",
              "    border: none;\n",
              "    border-radius: 50%;\n",
              "    cursor: pointer;\n",
              "    display: none;\n",
              "    fill: var(--fill-color);\n",
              "    height: 32px;\n",
              "    padding: 0;\n",
              "    width: 32px;\n",
              "  }\n",
              "\n",
              "  .colab-df-quickchart:hover {\n",
              "    background-color: var(--hover-bg-color);\n",
              "    box-shadow: 0 1px 2px rgba(60, 64, 67, 0.3), 0 1px 3px 1px rgba(60, 64, 67, 0.15);\n",
              "    fill: var(--button-hover-fill-color);\n",
              "  }\n",
              "\n",
              "  .colab-df-quickchart-complete:disabled,\n",
              "  .colab-df-quickchart-complete:disabled:hover {\n",
              "    background-color: var(--disabled-bg-color);\n",
              "    fill: var(--disabled-fill-color);\n",
              "    box-shadow: none;\n",
              "  }\n",
              "\n",
              "  .colab-df-spinner {\n",
              "    border: 2px solid var(--fill-color);\n",
              "    border-color: transparent;\n",
              "    border-bottom-color: var(--fill-color);\n",
              "    animation:\n",
              "      spin 1s steps(1) infinite;\n",
              "  }\n",
              "\n",
              "  @keyframes spin {\n",
              "    0% {\n",
              "      border-color: transparent;\n",
              "      border-bottom-color: var(--fill-color);\n",
              "      border-left-color: var(--fill-color);\n",
              "    }\n",
              "    20% {\n",
              "      border-color: transparent;\n",
              "      border-left-color: var(--fill-color);\n",
              "      border-top-color: var(--fill-color);\n",
              "    }\n",
              "    30% {\n",
              "      border-color: transparent;\n",
              "      border-left-color: var(--fill-color);\n",
              "      border-top-color: var(--fill-color);\n",
              "      border-right-color: var(--fill-color);\n",
              "    }\n",
              "    40% {\n",
              "      border-color: transparent;\n",
              "      border-right-color: var(--fill-color);\n",
              "      border-top-color: var(--fill-color);\n",
              "    }\n",
              "    60% {\n",
              "      border-color: transparent;\n",
              "      border-right-color: var(--fill-color);\n",
              "    }\n",
              "    80% {\n",
              "      border-color: transparent;\n",
              "      border-right-color: var(--fill-color);\n",
              "      border-bottom-color: var(--fill-color);\n",
              "    }\n",
              "    90% {\n",
              "      border-color: transparent;\n",
              "      border-bottom-color: var(--fill-color);\n",
              "    }\n",
              "  }\n",
              "</style>\n",
              "\n",
              "      <script>\n",
              "        async function quickchart(key) {\n",
              "          const quickchartButtonEl =\n",
              "            document.querySelector('#' + key + ' button');\n",
              "          quickchartButtonEl.disabled = true;  // To prevent multiple clicks.\n",
              "          quickchartButtonEl.classList.add('colab-df-spinner');\n",
              "          try {\n",
              "            const charts = await google.colab.kernel.invokeFunction(\n",
              "                'suggestCharts', [key], {});\n",
              "          } catch (error) {\n",
              "            console.error('Error during call to suggestCharts:', error);\n",
              "          }\n",
              "          quickchartButtonEl.classList.remove('colab-df-spinner');\n",
              "          quickchartButtonEl.classList.add('colab-df-quickchart-complete');\n",
              "        }\n",
              "        (() => {\n",
              "          let quickchartButtonEl =\n",
              "            document.querySelector('#df-9a64d5b6-4b14-4240-9ad2-9549f46711b4 button');\n",
              "          quickchartButtonEl.style.display =\n",
              "            google.colab.kernel.accessAllowed ? 'block' : 'none';\n",
              "        })();\n",
              "      </script>\n",
              "    </div>\n",
              "\n",
              "    </div>\n",
              "  </div>\n"
            ],
            "text/plain": [
              "                         Types  Counts  Uniques  Nulls   Min        Max\n",
              "Department              object   11991       10      0    IT  technical\n",
              "Work_accident            int64   11991        2      0     0          1\n",
              "average_montly_hours     int64   11991      215      0    96        310\n",
              "last_evaluation        float64   11991       65      0  0.36        1.0\n",
              "left                     int64   11991        2      0     0          1\n",
              "number_project           int64   11991        6      0     2          7\n",
              "promotion_last_5years    int64   11991        2      0     0          1\n",
              "salary                  object   11991        3      0  high     medium\n",
              "satisfaction_level     float64   11991       92      0  0.09        1.0\n",
              "time_spend_company       int64   11991        8      0     2         10"
            ]
          },
          "execution_count": 10,
          "metadata": {},
          "output_type": "execute_result"
        }
      ],
      "source": [
        "summary(df)"
      ]
    },
    {
      "cell_type": "code",
      "execution_count": null,
      "metadata": {
        "execution": {
          "iopub.execute_input": "2021-06-16T07:53:16.538539Z",
          "iopub.status.busy": "2021-06-16T07:53:16.538164Z",
          "iopub.status.idle": "2021-06-16T07:53:16.5437Z",
          "shell.execute_reply": "2021-06-16T07:53:16.542543Z",
          "shell.execute_reply.started": "2021-06-16T07:53:16.538503Z"
        },
        "id": "EYCg-I8u5cfS",
        "trusted": true
      },
      "outputs": [],
      "source": [
        "df=df.rename({'Department ':'Department'},axis=1)"
      ]
    },
    {
      "cell_type": "code",
      "execution_count": null,
      "metadata": {
        "colab": {
          "base_uri": "https://localhost:8080/"
        },
        "execution": {
          "iopub.execute_input": "2021-06-16T07:53:16.563894Z",
          "iopub.status.busy": "2021-06-16T07:53:16.563491Z",
          "iopub.status.idle": "2021-06-16T07:53:16.575037Z",
          "shell.execute_reply": "2021-06-16T07:53:16.574011Z",
          "shell.execute_reply.started": "2021-06-16T07:53:16.563859Z"
        },
        "id": "nJBYX4b85cfT",
        "outputId": "a61d402c-4ccf-4c9b-9aac-53ebf1cd740c",
        "trusted": true
      },
      "outputs": [
        {
          "name": "stdout",
          "output_type": "stream",
          "text": [
            "1: %16.60\n",
            "0: %83.40\n"
          ]
        }
      ],
      "source": [
        "def perc_col(df,col):\n",
        "    for i in sorted(df[col].unique(),reverse=True):\n",
        "        print('%s: %%%.2f' % (i, 100*df[col].value_counts()[i]/len(df)))\n",
        "\n",
        "perc_col(df,'left')"
      ]
    },
    {
      "cell_type": "markdown",
      "metadata": {
        "id": "vsQ9XCMA5cfT"
      },
      "source": [
        "* Unbalanced data set"
      ]
    },
    {
      "cell_type": "markdown",
      "metadata": {
        "id": "0PsO9Iew2smG"
      },
      "source": [
        "## 2. Visualisation des données\n",
        "\n",
        "Vous pouvez trouver des réponses aux questions suivantes grâce à des méthodes de visualisation des données. À partir de ces réponses, vous pouvez formuler des commentaires sur les facteurs à l'origine du taux de rotation du personnel.\n",
        "- Quel est l'impact du statut de promotion sur le taux de rotation du personnel ?\n",
        "- Quel est l'impact des années d'expérience sur le taux de rotation du personnel ?\n",
        "- Quel est l'impact de la charge de travail sur le taux de rotation du personnel ?\n",
        "- Quel est l'impact du niveau de salaire sur le taux de rotation du personnel ?"
      ]
    },
    {
      "cell_type": "code",
      "execution_count": null,
      "metadata": {
        "colab": {
          "base_uri": "https://localhost:8080/",
          "height": 556
        },
        "execution": {
          "iopub.execute_input": "2021-06-16T07:53:59.327147Z",
          "iopub.status.busy": "2021-06-16T07:53:59.326834Z",
          "iopub.status.idle": "2021-06-16T07:53:59.466002Z",
          "shell.execute_reply": "2021-06-16T07:53:59.464941Z",
          "shell.execute_reply.started": "2021-06-16T07:53:59.327117Z"
        },
        "id": "x6nBBN2O5cfU",
        "outputId": "831bbf77-65d9-4cb9-d090-ffdbc064e3fc",
        "trusted": true
      },
      "outputs": [
        {
          "data": {
            "application/vnd.google.colaboratory.intrinsic+json": {
              "summary": "{\n  \"name\": \"pd\",\n  \"rows\": 1,\n  \"fields\": [\n    {\n      \"column\": \"low\",\n      \"properties\": {\n        \"dtype\": \"number\",\n        \"std\": null,\n        \"min\": 20.5,\n        \"max\": 20.5,\n        \"num_unique_values\": 1,\n        \"samples\": [\n          20.5\n        ],\n        \"semantic_type\": \"\",\n        \"description\": \"\"\n      }\n    },\n    {\n      \"column\": \"medium\",\n      \"properties\": {\n        \"dtype\": \"number\",\n        \"std\": null,\n        \"min\": 14.6,\n        \"max\": 14.6,\n        \"num_unique_values\": 1,\n        \"samples\": [\n          14.6\n        ],\n        \"semantic_type\": \"\",\n        \"description\": \"\"\n      }\n    },\n    {\n      \"column\": \"high\",\n      \"properties\": {\n        \"dtype\": \"number\",\n        \"std\": null,\n        \"min\": 4.8,\n        \"max\": 4.8,\n        \"num_unique_values\": 1,\n        \"samples\": [\n          4.8\n        ],\n        \"semantic_type\": \"\",\n        \"description\": \"\"\n      }\n    }\n  ]\n}",
              "type": "dataframe"
            },
            "text/html": [
              "\n",
              "  <div id=\"df-514fecea-6f4e-4a83-9b7a-daaaa22509de\" class=\"colab-df-container\">\n",
              "    <div>\n",
              "<style scoped>\n",
              "    .dataframe tbody tr th:only-of-type {\n",
              "        vertical-align: middle;\n",
              "    }\n",
              "\n",
              "    .dataframe tbody tr th {\n",
              "        vertical-align: top;\n",
              "    }\n",
              "\n",
              "    .dataframe thead th {\n",
              "        text-align: right;\n",
              "    }\n",
              "</style>\n",
              "<table border=\"1\" class=\"dataframe\">\n",
              "  <thead>\n",
              "    <tr style=\"text-align: right;\">\n",
              "      <th>salary</th>\n",
              "      <th>low</th>\n",
              "      <th>medium</th>\n",
              "      <th>high</th>\n",
              "    </tr>\n",
              "  </thead>\n",
              "  <tbody>\n",
              "    <tr>\n",
              "      <th>left</th>\n",
              "      <td>20.5</td>\n",
              "      <td>14.6</td>\n",
              "      <td>4.8</td>\n",
              "    </tr>\n",
              "  </tbody>\n",
              "</table>\n",
              "</div>\n",
              "    <div class=\"colab-df-buttons\">\n",
              "\n",
              "  <div class=\"colab-df-container\">\n",
              "    <button class=\"colab-df-convert\" onclick=\"convertToInteractive('df-514fecea-6f4e-4a83-9b7a-daaaa22509de')\"\n",
              "            title=\"Convert this dataframe to an interactive table.\"\n",
              "            style=\"display:none;\">\n",
              "\n",
              "  <svg xmlns=\"http://www.w3.org/2000/svg\" height=\"24px\" viewBox=\"0 -960 960 960\">\n",
              "    <path d=\"M120-120v-720h720v720H120Zm60-500h600v-160H180v160Zm220 220h160v-160H400v160Zm0 220h160v-160H400v160ZM180-400h160v-160H180v160Zm440 0h160v-160H620v160ZM180-180h160v-160H180v160Zm440 0h160v-160H620v160Z\"/>\n",
              "  </svg>\n",
              "    </button>\n",
              "\n",
              "  <style>\n",
              "    .colab-df-container {\n",
              "      display:flex;\n",
              "      gap: 12px;\n",
              "    }\n",
              "\n",
              "    .colab-df-convert {\n",
              "      background-color: #E8F0FE;\n",
              "      border: none;\n",
              "      border-radius: 50%;\n",
              "      cursor: pointer;\n",
              "      display: none;\n",
              "      fill: #1967D2;\n",
              "      height: 32px;\n",
              "      padding: 0 0 0 0;\n",
              "      width: 32px;\n",
              "    }\n",
              "\n",
              "    .colab-df-convert:hover {\n",
              "      background-color: #E2EBFA;\n",
              "      box-shadow: 0px 1px 2px rgba(60, 64, 67, 0.3), 0px 1px 3px 1px rgba(60, 64, 67, 0.15);\n",
              "      fill: #174EA6;\n",
              "    }\n",
              "\n",
              "    .colab-df-buttons div {\n",
              "      margin-bottom: 4px;\n",
              "    }\n",
              "\n",
              "    [theme=dark] .colab-df-convert {\n",
              "      background-color: #3B4455;\n",
              "      fill: #D2E3FC;\n",
              "    }\n",
              "\n",
              "    [theme=dark] .colab-df-convert:hover {\n",
              "      background-color: #434B5C;\n",
              "      box-shadow: 0px 1px 3px 1px rgba(0, 0, 0, 0.15);\n",
              "      filter: drop-shadow(0px 1px 2px rgba(0, 0, 0, 0.3));\n",
              "      fill: #FFFFFF;\n",
              "    }\n",
              "  </style>\n",
              "\n",
              "    <script>\n",
              "      const buttonEl =\n",
              "        document.querySelector('#df-514fecea-6f4e-4a83-9b7a-daaaa22509de button.colab-df-convert');\n",
              "      buttonEl.style.display =\n",
              "        google.colab.kernel.accessAllowed ? 'block' : 'none';\n",
              "\n",
              "      async function convertToInteractive(key) {\n",
              "        const element = document.querySelector('#df-514fecea-6f4e-4a83-9b7a-daaaa22509de');\n",
              "        const dataTable =\n",
              "          await google.colab.kernel.invokeFunction('convertToInteractive',\n",
              "                                                    [key], {});\n",
              "        if (!dataTable) return;\n",
              "\n",
              "        const docLinkHtml = 'Like what you see? Visit the ' +\n",
              "          '<a target=\"_blank\" href=https://colab.research.google.com/notebooks/data_table.ipynb>data table notebook</a>'\n",
              "          + ' to learn more about interactive tables.';\n",
              "        element.innerHTML = '';\n",
              "        dataTable['output_type'] = 'display_data';\n",
              "        await google.colab.output.renderOutput(dataTable, element);\n",
              "        const docLink = document.createElement('div');\n",
              "        docLink.innerHTML = docLinkHtml;\n",
              "        element.appendChild(docLink);\n",
              "      }\n",
              "    </script>\n",
              "  </div>\n",
              "\n",
              "\n",
              "    </div>\n",
              "  </div>\n"
            ],
            "text/plain": [
              "salary   low  medium  high\n",
              "left    20.5    14.6   4.8"
            ]
          },
          "execution_count": 13,
          "metadata": {},
          "output_type": "execute_result"
        },
        {
          "data": {
            "image/png": "[encoded data removed]",
            "text/plain": [
              "<Figure size 640x480 with 1 Axes>"
            ]
          },
          "metadata": {},
          "output_type": "display_data"
        }
      ],
      "source": [
        "# Churn ratio of employee by Department\n",
        "pd.DataFrame(df.groupby('salary')['left'].mean()).sort_values('left',ascending=False).plot(kind='bar')\n",
        "pd.DataFrame(df.groupby('salary')['left'].mean()).sort_values('left',ascending=False).round(3).T*100"
      ]
    },
    {
      "cell_type": "code",
      "execution_count": null,
      "metadata": {
        "colab": {
          "base_uri": "https://localhost:8080/",
          "height": 531
        },
        "execution": {
          "iopub.execute_input": "2021-06-16T07:53:59.467826Z",
          "iopub.status.busy": "2021-06-16T07:53:59.467488Z",
          "iopub.status.idle": "2021-06-16T07:53:59.658152Z",
          "shell.execute_reply": "2021-06-16T07:53:59.657376Z",
          "shell.execute_reply.started": "2021-06-16T07:53:59.46779Z"
        },
        "id": "oUzNNU8k5cfU",
        "outputId": "3564a108-e016-4cde-fad9-cb9d2e25b77b",
        "trusted": true
      },
      "outputs": [
        {
          "data": {
            "application/vnd.google.colaboratory.intrinsic+json": {
              "summary": "{\n  \"name\": \"pd\",\n  \"rows\": 1,\n  \"fields\": [\n    {\n      \"column\": \"hr\",\n      \"properties\": {\n        \"dtype\": \"number\",\n        \"std\": null,\n        \"min\": 18.8,\n        \"max\": 18.8,\n        \"num_unique_values\": 1,\n        \"samples\": [\n          18.8\n        ],\n        \"semantic_type\": \"\",\n        \"description\": \"\"\n      }\n    },\n    {\n      \"column\": \"accounting\",\n      \"properties\": {\n        \"dtype\": \"number\",\n        \"std\": null,\n        \"min\": 17.599999999999998,\n        \"max\": 17.599999999999998,\n        \"num_unique_values\": 1,\n        \"samples\": [\n          17.599999999999998\n        ],\n        \"semantic_type\": \"\",\n        \"description\": \"\"\n      }\n    },\n    {\n      \"column\": \"technical\",\n      \"properties\": {\n        \"dtype\": \"number\",\n        \"std\": null,\n        \"min\": 17.4,\n        \"max\": 17.4,\n        \"num_unique_values\": 1,\n        \"samples\": [\n          17.4\n        ],\n        \"semantic_type\": \"\",\n        \"description\": \"\"\n      }\n    },\n    {\n      \"column\": \"support\",\n      \"properties\": {\n        \"dtype\": \"number\",\n        \"std\": null,\n        \"min\": 17.1,\n        \"max\": 17.1,\n        \"num_unique_values\": 1,\n        \"samples\": [\n          17.1\n        ],\n        \"semantic_type\": \"\",\n        \"description\": \"\"\n      }\n    },\n    {\n      \"column\": \"sales\",\n      \"properties\": {\n        \"dtype\": \"number\",\n        \"std\": null,\n        \"min\": 17.0,\n        \"max\": 17.0,\n        \"num_unique_values\": 1,\n        \"samples\": [\n          17.0\n        ],\n        \"semantic_type\": \"\",\n        \"description\": \"\"\n      }\n    },\n    {\n      \"column\": \"marketing\",\n      \"properties\": {\n        \"dtype\": \"number\",\n        \"std\": null,\n        \"min\": 16.6,\n        \"max\": 16.6,\n        \"num_unique_values\": 1,\n        \"samples\": [\n          16.6\n        ],\n        \"semantic_type\": \"\",\n        \"description\": \"\"\n      }\n    },\n    {\n      \"column\": \"IT\",\n      \"properties\": {\n        \"dtype\": \"number\",\n        \"std\": null,\n        \"min\": 16.2,\n        \"max\": 16.2,\n        \"num_unique_values\": 1,\n        \"samples\": [\n          16.2\n        ],\n        \"semantic_type\": \"\",\n        \"description\": \"\"\n      }\n    },\n    {\n      \"column\": \"product_mng\",\n      \"properties\": {\n        \"dtype\": \"number\",\n        \"std\": null,\n        \"min\": 16.0,\n        \"max\": 16.0,\n        \"num_unique_values\": 1,\n        \"samples\": [\n          16.0\n        ],\n        \"semantic_type\": \"\",\n        \"description\": \"\"\n      }\n    },\n    {\n      \"column\": \"RandD\",\n      \"properties\": {\n        \"dtype\": \"number\",\n        \"std\": null,\n        \"min\": 12.2,\n        \"max\": 12.2,\n        \"num_unique_values\": 1,\n        \"samples\": [\n          12.2\n        ],\n        \"semantic_type\": \"\",\n        \"description\": \"\"\n      }\n    },\n    {\n      \"column\": \"management\",\n      \"properties\": {\n        \"dtype\": \"number\",\n        \"std\": null,\n        \"min\": 11.899999999999999,\n        \"max\": 11.899999999999999,\n        \"num_unique_values\": 1,\n        \"samples\": [\n          11.899999999999999\n        ],\n        \"semantic_type\": \"\",\n        \"description\": \"\"\n      }\n    }\n  ]\n}",
              "type": "dataframe"
            },
            "text/html": [
              "\n",
              "  <div id=\"df-ea65da67-cb39-44f4-bb83-e610dc6a76e7\" class=\"colab-df-container\">\n",
              "    <div>\n",
              "<style scoped>\n",
              "    .dataframe tbody tr th:only-of-type {\n",
              "        vertical-align: middle;\n",
              "    }\n",
              "\n",
              "    .dataframe tbody tr th {\n",
              "        vertical-align: top;\n",
              "    }\n",
              "\n",
              "    .dataframe thead th {\n",
              "        text-align: right;\n",
              "    }\n",
              "</style>\n",
              "<table border=\"1\" class=\"dataframe\">\n",
              "  <thead>\n",
              "    <tr style=\"text-align: right;\">\n",
              "      <th>Department</th>\n",
              "      <th>hr</th>\n",
              "      <th>accounting</th>\n",
              "      <th>technical</th>\n",
              "      <th>support</th>\n",
              "      <th>sales</th>\n",
              "      <th>marketing</th>\n",
              "      <th>IT</th>\n",
              "      <th>product_mng</th>\n",
              "      <th>RandD</th>\n",
              "      <th>management</th>\n",
              "    </tr>\n",
              "  </thead>\n",
              "  <tbody>\n",
              "    <tr>\n",
              "      <th>left</th>\n",
              "      <td>18.8</td>\n",
              "      <td>17.6</td>\n",
              "      <td>17.4</td>\n",
              "      <td>17.1</td>\n",
              "      <td>17.0</td>\n",
              "      <td>16.6</td>\n",
              "      <td>16.2</td>\n",
              "      <td>16.0</td>\n",
              "      <td>12.2</td>\n",
              "      <td>11.9</td>\n",
              "    </tr>\n",
              "  </tbody>\n",
              "</table>\n",
              "</div>\n",
              "    <div class=\"colab-df-buttons\">\n",
              "\n",
              "  <div class=\"colab-df-container\">\n",
              "    <button class=\"colab-df-convert\" onclick=\"convertToInteractive('df-ea65da67-cb39-44f4-bb83-e610dc6a76e7')\"\n",
              "            title=\"Convert this dataframe to an interactive table.\"\n",
              "            style=\"display:none;\">\n",
              "\n",
              "  <svg xmlns=\"http://www.w3.org/2000/svg\" height=\"24px\" viewBox=\"0 -960 960 960\">\n",
              "    <path d=\"M120-120v-720h720v720H120Zm60-500h600v-160H180v160Zm220 220h160v-160H400v160Zm0 220h160v-160H400v160ZM180-400h160v-160H180v160Zm440 0h160v-160H620v160ZM180-180h160v-160H180v160Zm440 0h160v-160H620v160Z\"/>\n",
              "  </svg>\n",
              "    </button>\n",
              "\n",
              "  <style>\n",
              "    .colab-df-container {\n",
              "      display:flex;\n",
              "      gap: 12px;\n",
              "    }\n",
              "\n",
              "    .colab-df-convert {\n",
              "      background-color: #E8F0FE;\n",
              "      border: none;\n",
              "      border-radius: 50%;\n",
              "      cursor: pointer;\n",
              "      display: none;\n",
              "      fill: #1967D2;\n",
              "      height: 32px;\n",
              "      padding: 0 0 0 0;\n",
              "      width: 32px;\n",
              "    }\n",
              "\n",
              "    .colab-df-convert:hover {\n",
              "      background-color: #E2EBFA;\n",
              "      box-shadow: 0px 1px 2px rgba(60, 64, 67, 0.3), 0px 1px 3px 1px rgba(60, 64, 67, 0.15);\n",
              "      fill: #174EA6;\n",
              "    }\n",
              "\n",
              "    .colab-df-buttons div {\n",
              "      margin-bottom: 4px;\n",
              "    }\n",
              "\n",
              "    [theme=dark] .colab-df-convert {\n",
              "      background-color: #3B4455;\n",
              "      fill: #D2E3FC;\n",
              "    }\n",
              "\n",
              "    [theme=dark] .colab-df-convert:hover {\n",
              "      background-color: #434B5C;\n",
              "      box-shadow: 0px 1px 3px 1px rgba(0, 0, 0, 0.15);\n",
              "      filter: drop-shadow(0px 1px 2px rgba(0, 0, 0, 0.3));\n",
              "      fill: #FFFFFF;\n",
              "    }\n",
              "  </style>\n",
              "\n",
              "    <script>\n",
              "      const buttonEl =\n",
              "        document.querySelector('#df-ea65da67-cb39-44f4-bb83-e610dc6a76e7 button.colab-df-convert');\n",
              "      buttonEl.style.display =\n",
              "        google.colab.kernel.accessAllowed ? 'block' : 'none';\n",
              "\n",
              "      async function convertToInteractive(key) {\n",
              "        const element = document.querySelector('#df-ea65da67-cb39-44f4-bb83-e610dc6a76e7');\n",
              "        const dataTable =\n",
              "          await google.colab.kernel.invokeFunction('convertToInteractive',\n",
              "                                                    [key], {});\n",
              "        if (!dataTable) return;\n",
              "\n",
              "        const docLinkHtml = 'Like what you see? Visit the ' +\n",
              "          '<a target=\"_blank\" href=https://colab.research.google.com/notebooks/data_table.ipynb>data table notebook</a>'\n",
              "          + ' to learn more about interactive tables.';\n",
              "        element.innerHTML = '';\n",
              "        dataTable['output_type'] = 'display_data';\n",
              "        await google.colab.output.renderOutput(dataTable, element);\n",
              "        const docLink = document.createElement('div');\n",
              "        docLink.innerHTML = docLinkHtml;\n",
              "        element.appendChild(docLink);\n",
              "      }\n",
              "    </script>\n",
              "  </div>\n",
              "\n",
              "\n",
              "    </div>\n",
              "  </div>\n"
            ],
            "text/plain": [
              "Department    hr  accounting  technical  support  sales  marketing    IT  \\\n",
              "left        18.8        17.6       17.4     17.1   17.0       16.6  16.2   \n",
              "\n",
              "Department  product_mng  RandD  management  \n",
              "left               16.0   12.2        11.9  "
            ]
          },
          "execution_count": 14,
          "metadata": {},
          "output_type": "execute_result"
        },
        {
          "data": {
            "image/png": "[encoded data removed]",
            "text/plain": [
              "<Figure size 1200x400 with 1 Axes>"
            ]
          },
          "metadata": {},
          "output_type": "display_data"
        }
      ],
      "source": [
        "# Taux de demissionement par département\n",
        "pd.DataFrame(df.groupby('Department')['left'].mean()).sort_values('left',ascending=False).plot(kind='bar',figsize=(12,4))\n",
        "pd.DataFrame(df.groupby('Department')['left'].mean()).sort_values('left',ascending=False).round(3).T*100"
      ]
    },
    {
      "cell_type": "markdown",
      "metadata": {
        "id": "qvrvzC1l5cfU"
      },
      "source": [
        "* Rh: 'Ressource humaine'\n",
        "* RandD: 'Research et Developpement'"
      ]
    },
    {
      "cell_type": "code",
      "execution_count": null,
      "metadata": {
        "colab": {
          "base_uri": "https://localhost:8080/",
          "height": 621
        },
        "execution": {
          "iopub.execute_input": "2021-06-16T07:53:59.659686Z",
          "iopub.status.busy": "2021-06-16T07:53:59.659348Z",
          "iopub.status.idle": "2021-06-16T07:54:01.227587Z",
          "shell.execute_reply": "2021-06-16T07:54:01.2266Z",
          "shell.execute_reply.started": "2021-06-16T07:53:59.659651Z"
        },
        "id": "YLJFprJR5cfV",
        "outputId": "f69f3885-8553-4679-95ca-31a22d5d5e2a",
        "trusted": true
      },
      "outputs": [
        {
          "data": {
            "image/png": "[encoded data removed]",
            "text/plain": [
              "<Figure size 1500x600 with 1 Axes>"
            ]
          },
          "metadata": {},
          "output_type": "display_data"
        }
      ],
      "source": [
        "plt.figure(figsize=(15,6))\n",
        "result = df.groupby([\"Department\"])['left'].aggregate(np.mean).reset_index().sort_values('left',ascending=False)\n",
        "sns.barplot(x='Department', y=\"left\", data=df, hue='salary',order=result['Department'])\n",
        "plt.xticks(rotation=90)\n",
        "plt.show()"
      ]
    },
    {
      "cell_type": "code",
      "execution_count": null,
      "metadata": {
        "colab": {
          "base_uri": "https://localhost:8080/",
          "height": 485
        },
        "execution": {
          "iopub.execute_input": "2021-06-16T07:54:01.229369Z",
          "iopub.status.busy": "2021-06-16T07:54:01.229006Z",
          "iopub.status.idle": "2021-06-16T07:54:02.882813Z",
          "shell.execute_reply": "2021-06-16T07:54:02.881874Z",
          "shell.execute_reply.started": "2021-06-16T07:54:01.22932Z"
        },
        "id": "twPpcgt75cfV",
        "outputId": "23629430-16a8-4bf3-e34b-ebecfbc07c0c",
        "scrolled": true,
        "trusted": true
      },
      "outputs": [
        {
          "data": {
            "image/png": "[encoded data removed]",
            "text/plain": [
              "<Figure size 1200x400 with 3 Axes>"
            ]
          },
          "metadata": {},
          "output_type": "display_data"
        }
      ],
      "source": [
        "g = sns.FacetGrid(df,col='salary',height=4)\n",
        "ax = g.map(sns.barplot, \"Department\", \"left\", palette = \"Blues_d\", order=result['Department'])\n",
        "ax.set_xticklabels(rotation = 90);"
      ]
    },
    {
      "cell_type": "markdown",
      "metadata": {
        "id": "twUSBtTU5cfV"
      },
      "source": [
        "On constate que la principale motivation affectant le taux de rotation est le segment des salaires.\n",
        "L’effet de cette motivation peut varier selon le département. Alors que la baisse du taux de rotation du personnel dans les RH, la comptabilité et la RanD a été plus régulière, la baisse a été plus marquée dans le domaine de la gestion."
      ]
    },
    {
      "cell_type": "markdown",
      "metadata": {
        "id": "qRQhFwtq2smI"
      },
      "source": [
        "### Employés restants\n",
        "Vérifions le nombre d'employés restants. Vous pouvez tracer un graphique à barres avec Matplotlib. Ce graphique est idéal pour afficher le nombre de variables discrètes."
      ]
    },
    {
      "cell_type": "code",
      "execution_count": null,
      "metadata": {
        "colab": {
          "base_uri": "https://localhost:8080/",
          "height": 521
        },
        "execution": {
          "iopub.execute_input": "2021-06-16T07:54:02.884325Z",
          "iopub.status.busy": "2021-06-16T07:54:02.883979Z",
          "iopub.status.idle": "2021-06-16T07:54:03.112546Z",
          "shell.execute_reply": "2021-06-16T07:54:03.111617Z",
          "shell.execute_reply.started": "2021-06-16T07:54:02.884296Z"
        },
        "id": "3aKWfFLk2smL",
        "outputId": "889c9731-7d29-4b5f-a0d8-438c4aa4ddf0",
        "trusted": true
      },
      "outputs": [
        {
          "data": {
            "image/png": "[encoded data removed]",
            "text/plain": [
              "<Figure size 600x600 with 1 Axes>"
            ]
          },
          "metadata": {},
          "output_type": "display_data"
        }
      ],
      "source": [
        "plt.figure(figsize=(6,6))\n",
        "\n",
        "explode = [0,0.1]\n",
        "plt.pie(df['left'].value_counts(),explode=explode,autopct='%1.1f%%',shadow=True,startangle=60)\n",
        "plt.legend(labels=['Not Churn','Churn'])\n",
        "plt.title('Employee Distribution by Churn')\n",
        "plt.axis('off')\n",
        "plt.show()"
      ]
    },
    {
      "cell_type": "markdown",
      "metadata": {
        "id": "Vn6NHSZE2smY"
      },
      "source": [
        "### Nombre de projets\n",
        "\n",
        "De même, vous pouvez également tracer un graphique à barres pour comptabiliser le nombre d'employés déployés sur combien de projets ?"
      ]
    },
    {
      "cell_type": "code",
      "execution_count": null,
      "metadata": {
        "colab": {
          "base_uri": "https://localhost:8080/",
          "height": 465
        },
        "execution": {
          "iopub.execute_input": "2021-06-16T07:54:03.114201Z",
          "iopub.status.busy": "2021-06-16T07:54:03.113856Z",
          "iopub.status.idle": "2021-06-16T07:54:03.283331Z",
          "shell.execute_reply": "2021-06-16T07:54:03.282442Z",
          "shell.execute_reply.started": "2021-06-16T07:54:03.114165Z"
        },
        "id": "bGyyJcUP2sma",
        "outputId": "f044e4d0-c2fc-4c10-a914-54c0984663ac",
        "trusted": true
      },
      "outputs": [
        {
          "data": {
            "image/png": "[encoded data removed]",
            "text/plain": [
              "<Figure size 800x500 with 1 Axes>"
            ]
          },
          "metadata": {},
          "output_type": "display_data"
        }
      ],
      "source": [
        "plt.figure(figsize=(8,5))\n",
        "sns.countplot(x='number_project', data=df, hue='left');"
      ]
    },
    {
      "cell_type": "markdown",
      "metadata": {
        "id": "5BGuPMCq5cfc"
      },
      "source": [
        "* La valeur optimale pour le nombre de projets sur lesquels travaille un employé est de 3. Augmenter ou diminuer ce nombre augmente le taux de désabonnement."
      ]
    },
    {
      "cell_type": "markdown",
      "metadata": {
        "id": "S0QHPvvF5cfd"
      },
      "source": [
        "**satisfaction_level**"
      ]
    },
    {
      "cell_type": "code",
      "execution_count": null,
      "metadata": {
        "colab": {
          "base_uri": "https://localhost:8080/",
          "height": 531
        },
        "execution": {
          "iopub.execute_input": "2021-06-16T07:54:03.730917Z",
          "iopub.status.busy": "2021-06-16T07:54:03.730585Z",
          "iopub.status.idle": "2021-06-16T07:54:03.996525Z",
          "shell.execute_reply": "2021-06-16T07:54:03.995237Z",
          "shell.execute_reply.started": "2021-06-16T07:54:03.730882Z"
        },
        "id": "e_rvkpJZ5cfd",
        "outputId": "48aa897e-201e-4d32-f766-f298b1bdbc71",
        "trusted": true
      },
      "outputs": [
        {
          "data": {
            "application/vnd.google.colaboratory.intrinsic+json": {
              "summary": "{\n  \"name\": \"pd\",\n  \"rows\": 1,\n  \"fields\": [\n    {\n      \"column\": \"support\",\n      \"properties\": {\n        \"dtype\": \"number\",\n        \"std\": null,\n        \"min\": 63.5,\n        \"max\": 63.5,\n        \"num_unique_values\": 1,\n        \"samples\": [\n          63.5\n        ],\n        \"semantic_type\": \"\",\n        \"description\": \"\"\n      }\n    },\n    {\n      \"column\": \"marketing\",\n      \"properties\": {\n        \"dtype\": \"number\",\n        \"std\": null,\n        \"min\": 63.5,\n        \"max\": 63.5,\n        \"num_unique_values\": 1,\n        \"samples\": [\n          63.5\n        ],\n        \"semantic_type\": \"\",\n        \"description\": \"\"\n      }\n    },\n    {\n      \"column\": \"IT\",\n      \"properties\": {\n        \"dtype\": \"number\",\n        \"std\": null,\n        \"min\": 63.4,\n        \"max\": 63.4,\n        \"num_unique_values\": 1,\n        \"samples\": [\n          63.4\n        ],\n        \"semantic_type\": \"\",\n        \"description\": \"\"\n      }\n    },\n    {\n      \"column\": \"management\",\n      \"properties\": {\n        \"dtype\": \"number\",\n        \"std\": null,\n        \"min\": 63.2,\n        \"max\": 63.2,\n        \"num_unique_values\": 1,\n        \"samples\": [\n          63.2\n        ],\n        \"semantic_type\": \"\",\n        \"description\": \"\"\n      }\n    },\n    {\n      \"column\": \"sales\",\n      \"properties\": {\n        \"dtype\": \"number\",\n        \"std\": null,\n        \"min\": 63.1,\n        \"max\": 63.1,\n        \"num_unique_values\": 1,\n        \"samples\": [\n          63.1\n        ],\n        \"semantic_type\": \"\",\n        \"description\": \"\"\n      }\n    },\n    {\n      \"column\": \"product_mng\",\n      \"properties\": {\n        \"dtype\": \"number\",\n        \"std\": null,\n        \"min\": 63.0,\n        \"max\": 63.0,\n        \"num_unique_values\": 1,\n        \"samples\": [\n          63.0\n        ],\n        \"semantic_type\": \"\",\n        \"description\": \"\"\n      }\n    },\n    {\n      \"column\": \"technical\",\n      \"properties\": {\n        \"dtype\": \"number\",\n        \"std\": null,\n        \"min\": 62.8,\n        \"max\": 62.8,\n        \"num_unique_values\": 1,\n        \"samples\": [\n          62.8\n        ],\n        \"semantic_type\": \"\",\n        \"description\": \"\"\n      }\n    },\n    {\n      \"column\": \"RandD\",\n      \"properties\": {\n        \"dtype\": \"number\",\n        \"std\": null,\n        \"min\": 62.7,\n        \"max\": 62.7,\n        \"num_unique_values\": 1,\n        \"samples\": [\n          62.7\n        ],\n        \"semantic_type\": \"\",\n        \"description\": \"\"\n      }\n    },\n    {\n      \"column\": \"hr\",\n      \"properties\": {\n        \"dtype\": \"number\",\n        \"std\": null,\n        \"min\": 62.2,\n        \"max\": 62.2,\n        \"num_unique_values\": 1,\n        \"samples\": [\n          62.2\n        ],\n        \"semantic_type\": \"\",\n        \"description\": \"\"\n      }\n    },\n    {\n      \"column\": \"accounting\",\n      \"properties\": {\n        \"dtype\": \"number\",\n        \"std\": null,\n        \"min\": 60.8,\n        \"max\": 60.8,\n        \"num_unique_values\": 1,\n        \"samples\": [\n          60.8\n        ],\n        \"semantic_type\": \"\",\n        \"description\": \"\"\n      }\n    }\n  ]\n}",
              "type": "dataframe"
            },
            "text/html": [
              "\n",
              "  <div id=\"df-73c633f1-e79f-4236-9f5a-a483e27da0f1\" class=\"colab-df-container\">\n",
              "    <div>\n",
              "<style scoped>\n",
              "    .dataframe tbody tr th:only-of-type {\n",
              "        vertical-align: middle;\n",
              "    }\n",
              "\n",
              "    .dataframe tbody tr th {\n",
              "        vertical-align: top;\n",
              "    }\n",
              "\n",
              "    .dataframe thead th {\n",
              "        text-align: right;\n",
              "    }\n",
              "</style>\n",
              "<table border=\"1\" class=\"dataframe\">\n",
              "  <thead>\n",
              "    <tr style=\"text-align: right;\">\n",
              "      <th>Department</th>\n",
              "      <th>support</th>\n",
              "      <th>marketing</th>\n",
              "      <th>IT</th>\n",
              "      <th>management</th>\n",
              "      <th>sales</th>\n",
              "      <th>product_mng</th>\n",
              "      <th>technical</th>\n",
              "      <th>RandD</th>\n",
              "      <th>hr</th>\n",
              "      <th>accounting</th>\n",
              "    </tr>\n",
              "  </thead>\n",
              "  <tbody>\n",
              "    <tr>\n",
              "      <th>satisfaction_level</th>\n",
              "      <td>63.5</td>\n",
              "      <td>63.5</td>\n",
              "      <td>63.4</td>\n",
              "      <td>63.2</td>\n",
              "      <td>63.1</td>\n",
              "      <td>63.0</td>\n",
              "      <td>62.8</td>\n",
              "      <td>62.7</td>\n",
              "      <td>62.2</td>\n",
              "      <td>60.8</td>\n",
              "    </tr>\n",
              "  </tbody>\n",
              "</table>\n",
              "</div>\n",
              "    <div class=\"colab-df-buttons\">\n",
              "\n",
              "  <div class=\"colab-df-container\">\n",
              "    <button class=\"colab-df-convert\" onclick=\"convertToInteractive('df-73c633f1-e79f-4236-9f5a-a483e27da0f1')\"\n",
              "            title=\"Convert this dataframe to an interactive table.\"\n",
              "            style=\"display:none;\">\n",
              "\n",
              "  <svg xmlns=\"http://www.w3.org/2000/svg\" height=\"24px\" viewBox=\"0 -960 960 960\">\n",
              "    <path d=\"M120-120v-720h720v720H120Zm60-500h600v-160H180v160Zm220 220h160v-160H400v160Zm0 220h160v-160H400v160ZM180-400h160v-160H180v160Zm440 0h160v-160H620v160ZM180-180h160v-160H180v160Zm440 0h160v-160H620v160Z\"/>\n",
              "  </svg>\n",
              "    </button>\n",
              "\n",
              "  <style>\n",
              "    .colab-df-container {\n",
              "      display:flex;\n",
              "      gap: 12px;\n",
              "    }\n",
              "\n",
              "    .colab-df-convert {\n",
              "      background-color: #E8F0FE;\n",
              "      border: none;\n",
              "      border-radius: 50%;\n",
              "      cursor: pointer;\n",
              "      display: none;\n",
              "      fill: #1967D2;\n",
              "      height: 32px;\n",
              "      padding: 0 0 0 0;\n",
              "      width: 32px;\n",
              "    }\n",
              "\n",
              "    .colab-df-convert:hover {\n",
              "      background-color: #E2EBFA;\n",
              "      box-shadow: 0px 1px 2px rgba(60, 64, 67, 0.3), 0px 1px 3px 1px rgba(60, 64, 67, 0.15);\n",
              "      fill: #174EA6;\n",
              "    }\n",
              "\n",
              "    .colab-df-buttons div {\n",
              "      margin-bottom: 4px;\n",
              "    }\n",
              "\n",
              "    [theme=dark] .colab-df-convert {\n",
              "      background-color: #3B4455;\n",
              "      fill: #D2E3FC;\n",
              "    }\n",
              "\n",
              "    [theme=dark] .colab-df-convert:hover {\n",
              "      background-color: #434B5C;\n",
              "      box-shadow: 0px 1px 3px 1px rgba(0, 0, 0, 0.15);\n",
              "      filter: drop-shadow(0px 1px 2px rgba(0, 0, 0, 0.3));\n",
              "      fill: #FFFFFF;\n",
              "    }\n",
              "  </style>\n",
              "\n",
              "    <script>\n",
              "      const buttonEl =\n",
              "        document.querySelector('#df-73c633f1-e79f-4236-9f5a-a483e27da0f1 button.colab-df-convert');\n",
              "      buttonEl.style.display =\n",
              "        google.colab.kernel.accessAllowed ? 'block' : 'none';\n",
              "\n",
              "      async function convertToInteractive(key) {\n",
              "        const element = document.querySelector('#df-73c633f1-e79f-4236-9f5a-a483e27da0f1');\n",
              "        const dataTable =\n",
              "          await google.colab.kernel.invokeFunction('convertToInteractive',\n",
              "                                                    [key], {});\n",
              "        if (!dataTable) return;\n",
              "\n",
              "        const docLinkHtml = 'Like what you see? Visit the ' +\n",
              "          '<a target=\"_blank\" href=https://colab.research.google.com/notebooks/data_table.ipynb>data table notebook</a>'\n",
              "          + ' to learn more about interactive tables.';\n",
              "        element.innerHTML = '';\n",
              "        dataTable['output_type'] = 'display_data';\n",
              "        await google.colab.output.renderOutput(dataTable, element);\n",
              "        const docLink = document.createElement('div');\n",
              "        docLink.innerHTML = docLinkHtml;\n",
              "        element.appendChild(docLink);\n",
              "      }\n",
              "    </script>\n",
              "  </div>\n",
              "\n",
              "\n",
              "    </div>\n",
              "  </div>\n"
            ],
            "text/plain": [
              "Department          support  marketing    IT  management  sales  product_mng  \\\n",
              "satisfaction_level     63.5       63.5  63.4        63.2   63.1         63.0   \n",
              "\n",
              "Department          technical  RandD    hr  accounting  \n",
              "satisfaction_level       62.8   62.7  62.2        60.8  "
            ]
          },
          "execution_count": 19,
          "metadata": {},
          "output_type": "execute_result"
        },
        {
          "data": {
            "image/png": "[encoded data removed]",
            "text/plain": [
              "<Figure size 1300x400 with 1 Axes>"
            ]
          },
          "metadata": {},
          "output_type": "display_data"
        }
      ],
      "source": [
        "pd.DataFrame(df.groupby('Department').satisfaction_level.mean()).sort_values('satisfaction_level',ascending=False).plot(kind='bar',figsize=(13,4))\n",
        "pd.DataFrame(df.groupby('Department').satisfaction_level.mean()).sort_values('satisfaction_level',ascending=False).T.round(3)*100"
      ]
    },
    {
      "cell_type": "markdown",
      "metadata": {
        "id": "36OyDJyx2sm2"
      },
      "source": [
        "## 3. Data Pre-Processing"
      ]
    },
    {
      "cell_type": "markdown",
      "metadata": {
        "id": "L8-SVBoq2snA"
      },
      "source": [
        "#### Label Encoding\n",
        "\n",
        "De nombreux algorithmes de machine learning nécessitent des données d'entrée numériques. Il est donc nécessaire de représenter les colonnes catégorielles dans une colonne numérique. Pour encoder ces données, vous pouvez associer chaque valeur à un nombre. Par exemple, la valeur de la colonne Salaire peut être représentée comme suit : faible : 0, moyen : 1 et élevé : 2."
      ]
    },
    {
      "cell_type": "code",
      "execution_count": null,
      "metadata": {
        "colab": {
          "base_uri": "https://localhost:8080/",
          "height": 206
        },
        "execution": {
          "iopub.execute_input": "2021-06-16T07:54:11.636594Z",
          "iopub.status.busy": "2021-06-16T07:54:11.636191Z",
          "iopub.status.idle": "2021-06-16T07:54:11.647241Z",
          "shell.execute_reply": "2021-06-16T07:54:11.646295Z",
          "shell.execute_reply.started": "2021-06-16T07:54:11.63655Z"
        },
        "id": "fBhHqayl5cfg",
        "outputId": "3600b49b-102b-4703-b349-be05ba2d41a6",
        "trusted": true
      },
      "outputs": [
        {
          "data": {
            "application/vnd.google.colaboratory.intrinsic+json": {
              "summary": "{\n  \"name\": \"df[['Department','salary']]\",\n  \"rows\": 5,\n  \"fields\": [\n    {\n      \"column\": \"Department\",\n      \"properties\": {\n        \"dtype\": \"string\",\n        \"num_unique_values\": 5,\n        \"samples\": [\n          \"support\",\n          \"RandD\",\n          \"accounting\"\n        ],\n        \"semantic_type\": \"\",\n        \"description\": \"\"\n      }\n    },\n    {\n      \"column\": \"salary\",\n      \"properties\": {\n        \"dtype\": \"category\",\n        \"num_unique_values\": 2,\n        \"samples\": [\n          \"low\",\n          \"medium\"\n        ],\n        \"semantic_type\": \"\",\n        \"description\": \"\"\n      }\n    }\n  ]\n}",
              "type": "dataframe"
            },
            "text/html": [
              "\n",
              "  <div id=\"df-d45172f1-f528-431e-893c-ded81276331b\" class=\"colab-df-container\">\n",
              "    <div>\n",
              "<style scoped>\n",
              "    .dataframe tbody tr th:only-of-type {\n",
              "        vertical-align: middle;\n",
              "    }\n",
              "\n",
              "    .dataframe tbody tr th {\n",
              "        vertical-align: top;\n",
              "    }\n",
              "\n",
              "    .dataframe thead th {\n",
              "        text-align: right;\n",
              "    }\n",
              "</style>\n",
              "<table border=\"1\" class=\"dataframe\">\n",
              "  <thead>\n",
              "    <tr style=\"text-align: right;\">\n",
              "      <th></th>\n",
              "      <th>Department</th>\n",
              "      <th>salary</th>\n",
              "    </tr>\n",
              "  </thead>\n",
              "  <tbody>\n",
              "    <tr>\n",
              "      <th>8421</th>\n",
              "      <td>sales</td>\n",
              "      <td>medium</td>\n",
              "    </tr>\n",
              "    <tr>\n",
              "      <th>7982</th>\n",
              "      <td>support</td>\n",
              "      <td>low</td>\n",
              "    </tr>\n",
              "    <tr>\n",
              "      <th>2546</th>\n",
              "      <td>accounting</td>\n",
              "      <td>low</td>\n",
              "    </tr>\n",
              "    <tr>\n",
              "      <th>5327</th>\n",
              "      <td>IT</td>\n",
              "      <td>medium</td>\n",
              "    </tr>\n",
              "    <tr>\n",
              "      <th>2972</th>\n",
              "      <td>RandD</td>\n",
              "      <td>low</td>\n",
              "    </tr>\n",
              "  </tbody>\n",
              "</table>\n",
              "</div>\n",
              "    <div class=\"colab-df-buttons\">\n",
              "\n",
              "  <div class=\"colab-df-container\">\n",
              "    <button class=\"colab-df-convert\" onclick=\"convertToInteractive('df-d45172f1-f528-431e-893c-ded81276331b')\"\n",
              "            title=\"Convert this dataframe to an interactive table.\"\n",
              "            style=\"display:none;\">\n",
              "\n",
              "  <svg xmlns=\"http://www.w3.org/2000/svg\" height=\"24px\" viewBox=\"0 -960 960 960\">\n",
              "    <path d=\"M120-120v-720h720v720H120Zm60-500h600v-160H180v160Zm220 220h160v-160H400v160Zm0 220h160v-160H400v160ZM180-400h160v-160H180v160Zm440 0h160v-160H620v160ZM180-180h160v-160H180v160Zm440 0h160v-160H620v160Z\"/>\n",
              "  </svg>\n",
              "    </button>\n",
              "\n",
              "  <style>\n",
              "    .colab-df-container {\n",
              "      display:flex;\n",
              "      gap: 12px;\n",
              "    }\n",
              "\n",
              "    .colab-df-convert {\n",
              "      background-color: #E8F0FE;\n",
              "      border: none;\n",
              "      border-radius: 50%;\n",
              "      cursor: pointer;\n",
              "      display: none;\n",
              "      fill: #1967D2;\n",
              "      height: 32px;\n",
              "      padding: 0 0 0 0;\n",
              "      width: 32px;\n",
              "    }\n",
              "\n",
              "    .colab-df-convert:hover {\n",
              "      background-color: #E2EBFA;\n",
              "      box-shadow: 0px 1px 2px rgba(60, 64, 67, 0.3), 0px 1px 3px 1px rgba(60, 64, 67, 0.15);\n",
              "      fill: #174EA6;\n",
              "    }\n",
              "\n",
              "    .colab-df-buttons div {\n",
              "      margin-bottom: 4px;\n",
              "    }\n",
              "\n",
              "    [theme=dark] .colab-df-convert {\n",
              "      background-color: #3B4455;\n",
              "      fill: #D2E3FC;\n",
              "    }\n",
              "\n",
              "    [theme=dark] .colab-df-convert:hover {\n",
              "      background-color: #434B5C;\n",
              "      box-shadow: 0px 1px 3px 1px rgba(0, 0, 0, 0.15);\n",
              "      filter: drop-shadow(0px 1px 2px rgba(0, 0, 0, 0.3));\n",
              "      fill: #FFFFFF;\n",
              "    }\n",
              "  </style>\n",
              "\n",
              "    <script>\n",
              "      const buttonEl =\n",
              "        document.querySelector('#df-d45172f1-f528-431e-893c-ded81276331b button.colab-df-convert');\n",
              "      buttonEl.style.display =\n",
              "        google.colab.kernel.accessAllowed ? 'block' : 'none';\n",
              "\n",
              "      async function convertToInteractive(key) {\n",
              "        const element = document.querySelector('#df-d45172f1-f528-431e-893c-ded81276331b');\n",
              "        const dataTable =\n",
              "          await google.colab.kernel.invokeFunction('convertToInteractive',\n",
              "                                                    [key], {});\n",
              "        if (!dataTable) return;\n",
              "\n",
              "        const docLinkHtml = 'Like what you see? Visit the ' +\n",
              "          '<a target=\"_blank\" href=https://colab.research.google.com/notebooks/data_table.ipynb>data table notebook</a>'\n",
              "          + ' to learn more about interactive tables.';\n",
              "        element.innerHTML = '';\n",
              "        dataTable['output_type'] = 'display_data';\n",
              "        await google.colab.output.renderOutput(dataTable, element);\n",
              "        const docLink = document.createElement('div');\n",
              "        docLink.innerHTML = docLinkHtml;\n",
              "        element.appendChild(docLink);\n",
              "      }\n",
              "    </script>\n",
              "  </div>\n",
              "\n",
              "\n",
              "    <div id=\"df-093808e6-5ef0-44be-a681-00e3deaa60d5\">\n",
              "      <button class=\"colab-df-quickchart\" onclick=\"quickchart('df-093808e6-5ef0-44be-a681-00e3deaa60d5')\"\n",
              "                title=\"Suggest charts\"\n",
              "                style=\"display:none;\">\n",
              "\n",
              "<svg xmlns=\"http://www.w3.org/2000/svg\" height=\"24px\"viewBox=\"0 0 24 24\"\n",
              "     width=\"24px\">\n",
              "    <g>\n",
              "        <path d=\"M19 3H5c-1.1 0-2 .9-2 2v14c0 1.1.9 2 2 2h14c1.1 0 2-.9 2-2V5c0-1.1-.9-2-2-2zM9 17H7v-7h2v7zm4 0h-2V7h2v10zm4 0h-2v-4h2v4z\"/>\n",
              "    </g>\n",
              "</svg>\n",
              "      </button>\n",
              "\n",
              "<style>\n",
              "  .colab-df-quickchart {\n",
              "      --bg-color: #E8F0FE;\n",
              "      --fill-color: #1967D2;\n",
              "      --hover-bg-color: #E2EBFA;\n",
              "      --hover-fill-color: #174EA6;\n",
              "      --disabled-fill-color: #AAA;\n",
              "      --disabled-bg-color: #DDD;\n",
              "  }\n",
              "\n",
              "  [theme=dark] .colab-df-quickchart {\n",
              "      --bg-color: #3B4455;\n",
              "      --fill-color: #D2E3FC;\n",
              "      --hover-bg-color: #434B5C;\n",
              "      --hover-fill-color: #FFFFFF;\n",
              "      --disabled-bg-color: #3B4455;\n",
              "      --disabled-fill-color: #666;\n",
              "  }\n",
              "\n",
              "  .colab-df-quickchart {\n",
              "    background-color: var(--bg-color);\n",
              "    border: none;\n",
              "    border-radius: 50%;\n",
              "    cursor: pointer;\n",
              "    display: none;\n",
              "    fill: var(--fill-color);\n",
              "    height: 32px;\n",
              "    padding: 0;\n",
              "    width: 32px;\n",
              "  }\n",
              "\n",
              "  .colab-df-quickchart:hover {\n",
              "    background-color: var(--hover-bg-color);\n",
              "    box-shadow: 0 1px 2px rgba(60, 64, 67, 0.3), 0 1px 3px 1px rgba(60, 64, 67, 0.15);\n",
              "    fill: var(--button-hover-fill-color);\n",
              "  }\n",
              "\n",
              "  .colab-df-quickchart-complete:disabled,\n",
              "  .colab-df-quickchart-complete:disabled:hover {\n",
              "    background-color: var(--disabled-bg-color);\n",
              "    fill: var(--disabled-fill-color);\n",
              "    box-shadow: none;\n",
              "  }\n",
              "\n",
              "  .colab-df-spinner {\n",
              "    border: 2px solid var(--fill-color);\n",
              "    border-color: transparent;\n",
              "    border-bottom-color: var(--fill-color);\n",
              "    animation:\n",
              "      spin 1s steps(1) infinite;\n",
              "  }\n",
              "\n",
              "  @keyframes spin {\n",
              "    0% {\n",
              "      border-color: transparent;\n",
              "      border-bottom-color: var(--fill-color);\n",
              "      border-left-color: var(--fill-color);\n",
              "    }\n",
              "    20% {\n",
              "      border-color: transparent;\n",
              "      border-left-color: var(--fill-color);\n",
              "      border-top-color: var(--fill-color);\n",
              "    }\n",
              "    30% {\n",
              "      border-color: transparent;\n",
              "      border-left-color: var(--fill-color);\n",
              "      border-top-color: var(--fill-color);\n",
              "      border-right-color: var(--fill-color);\n",
              "    }\n",
              "    40% {\n",
              "      border-color: transparent;\n",
              "      border-right-color: var(--fill-color);\n",
              "      border-top-color: var(--fill-color);\n",
              "    }\n",
              "    60% {\n",
              "      border-color: transparent;\n",
              "      border-right-color: var(--fill-color);\n",
              "    }\n",
              "    80% {\n",
              "      border-color: transparent;\n",
              "      border-right-color: var(--fill-color);\n",
              "      border-bottom-color: var(--fill-color);\n",
              "    }\n",
              "    90% {\n",
              "      border-color: transparent;\n",
              "      border-bottom-color: var(--fill-color);\n",
              "    }\n",
              "  }\n",
              "</style>\n",
              "\n",
              "      <script>\n",
              "        async function quickchart(key) {\n",
              "          const quickchartButtonEl =\n",
              "            document.querySelector('#' + key + ' button');\n",
              "          quickchartButtonEl.disabled = true;  // To prevent multiple clicks.\n",
              "          quickchartButtonEl.classList.add('colab-df-spinner');\n",
              "          try {\n",
              "            const charts = await google.colab.kernel.invokeFunction(\n",
              "                'suggestCharts', [key], {});\n",
              "          } catch (error) {\n",
              "            console.error('Error during call to suggestCharts:', error);\n",
              "          }\n",
              "          quickchartButtonEl.classList.remove('colab-df-spinner');\n",
              "          quickchartButtonEl.classList.add('colab-df-quickchart-complete');\n",
              "        }\n",
              "        (() => {\n",
              "          let quickchartButtonEl =\n",
              "            document.querySelector('#df-093808e6-5ef0-44be-a681-00e3deaa60d5 button');\n",
              "          quickchartButtonEl.style.display =\n",
              "            google.colab.kernel.accessAllowed ? 'block' : 'none';\n",
              "        })();\n",
              "      </script>\n",
              "    </div>\n",
              "\n",
              "    </div>\n",
              "  </div>\n"
            ],
            "text/plain": [
              "      Department  salary\n",
              "8421       sales  medium\n",
              "7982     support     low\n",
              "2546  accounting     low\n",
              "5327          IT  medium\n",
              "2972       RandD     low"
            ]
          },
          "execution_count": 20,
          "metadata": {},
          "output_type": "execute_result"
        }
      ],
      "source": [
        "df[['Department','salary']].sample(5)"
      ]
    },
    {
      "cell_type": "code",
      "execution_count": null,
      "metadata": {
        "execution": {
          "iopub.execute_input": "2021-06-16T07:54:11.64954Z",
          "iopub.status.busy": "2021-06-16T07:54:11.649029Z",
          "iopub.status.idle": "2021-06-16T07:54:11.787592Z",
          "shell.execute_reply": "2021-06-16T07:54:11.78673Z",
          "shell.execute_reply.started": "2021-06-16T07:54:11.649502Z"
        },
        "id": "-pVP9UBQ2snC",
        "trusted": true
      },
      "outputs": [],
      "source": [
        "from sklearn.preprocessing import LabelEncoder\n",
        "df['Department']=LabelEncoder().fit_transform(df[['Department']])\n",
        "df['salary']=LabelEncoder().fit_transform(df[['salary']])"
      ]
    },
    {
      "cell_type": "code",
      "execution_count": null,
      "metadata": {
        "colab": {
          "base_uri": "https://localhost:8080/",
          "height": 206
        },
        "execution": {
          "iopub.execute_input": "2021-06-16T07:54:11.789132Z",
          "iopub.status.busy": "2021-06-16T07:54:11.788799Z",
          "iopub.status.idle": "2021-06-16T07:54:11.812212Z",
          "shell.execute_reply": "2021-06-16T07:54:11.811312Z",
          "shell.execute_reply.started": "2021-06-16T07:54:11.789098Z"
        },
        "id": "1HXszRiq2sm4",
        "outputId": "530557aa-0861-4811-e5d3-c522f1a97ced",
        "scrolled": true,
        "trusted": true
      },
      "outputs": [
        {
          "data": {
            "application/vnd.google.colaboratory.intrinsic+json": {
              "summary": "{\n  \"name\": \"df_scaled\",\n  \"rows\": 11991,\n  \"fields\": [\n    {\n      \"column\": \"satisfaction_level\",\n      \"properties\": {\n        \"dtype\": \"number\",\n        \"std\": 1.0000417005483895,\n        \"min\": -2.2386882578057388,\n        \"max\": 1.5363063208720684,\n        \"num_unique_values\": 92,\n        \"samples\": [\n          0.8310875534267635,\n          -2.0727544301715493,\n          -0.3304492400125614\n        ],\n        \"semantic_type\": \"\",\n        \"description\": \"\"\n      }\n    },\n    {\n      \"column\": \"last_evaluation\",\n      \"properties\": {\n        \"dtype\": \"number\",\n        \"std\": 1.000041700548387,\n        \"min\": -2.1188781923399356,\n        \"max\": 1.683052089958046,\n        \"num_unique_values\": 65,\n        \"samples\": [\n          -0.3367233725127566,\n          -1.643636907052688,\n          -1.108990461104534\n        ],\n        \"semantic_type\": \"\",\n        \"description\": \"\"\n      }\n    },\n    {\n      \"column\": \"number_project\",\n      \"properties\": {\n        \"dtype\": \"number\",\n        \"std\": 1.0000417005484106,\n        \"min\": -1.549921177620838,\n        \"max\": 2.74860431984689,\n        \"num_unique_values\": 6,\n        \"samples\": [\n          -1.549921177620838,\n          1.0291941208597988,\n          -0.6902160781272924\n        ],\n        \"semantic_type\": \"\",\n        \"description\": \"\"\n      }\n    },\n    {\n      \"column\": \"average_montly_hours\",\n      \"properties\": {\n        \"dtype\": \"number\",\n        \"std\": 1.0000417005483817,\n        \"min\": -2.144111782748218,\n        \"max\": 2.2478136885809543,\n        \"num_unique_values\": 215,\n        \"samples\": [\n          -1.6926054258826022,\n          -1.8157435232095884,\n          0.441788261118491\n        ],\n        \"semantic_type\": \"\",\n        \"description\": \"\"\n      }\n    },\n    {\n      \"column\": \"time_spend_company\",\n      \"properties\": {\n        \"dtype\": \"number\",\n        \"std\": 1.0000417005483442,\n        \"min\": -1.0260662632025628,\n        \"max\": 4.9881390708128,\n        \"num_unique_values\": 8,\n        \"samples\": [\n          1.9810364038051191,\n          3.48458773730896,\n          -0.2742905964506423\n        ],\n        \"semantic_type\": \"\",\n        \"description\": \"\"\n      }\n    },\n    {\n      \"column\": \"Work_accident\",\n      \"properties\": {\n        \"dtype\": \"number\",\n        \"std\": 1.000041700548352,\n        \"min\": -0.4271156382815413,\n        \"max\": 2.3412863177368166,\n        \"num_unique_values\": 2,\n        \"samples\": [\n          2.3412863177368166,\n          -0.4271156382815413\n        ],\n        \"semantic_type\": \"\",\n        \"description\": \"\"\n      }\n    },\n    {\n      \"column\": \"left\",\n      \"properties\": {\n        \"dtype\": \"number\",\n        \"std\": 1.0000417005482942,\n        \"min\": -0.4462062303464622,\n        \"max\": 2.2411161745176402,\n        \"num_unique_values\": 2,\n        \"samples\": [\n          -0.4462062303464622,\n          2.2411161745176402\n        ],\n        \"semantic_type\": \"\",\n        \"description\": \"\"\n      }\n    },\n    {\n      \"column\": \"promotion_last_5years\",\n      \"properties\": {\n        \"dtype\": \"number\",\n        \"std\": 1.0000417005484825,\n        \"min\": -0.13122843675372575,\n        \"max\": 7.620299568733593,\n        \"num_unique_values\": 2,\n        \"samples\": [\n          7.620299568733593,\n          -0.13122843675372575\n        ],\n        \"semantic_type\": \"\",\n        \"description\": \"\"\n      }\n    },\n    {\n      \"column\": \"Department\",\n      \"properties\": {\n        \"dtype\": \"number\",\n        \"std\": 1.000041700548437,\n        \"min\": -2.0253027561898644,\n        \"max\": 1.0793214415524115,\n        \"num_unique_values\": 10,\n        \"samples\": [\n          -0.3005115352219334,\n          -1.3353862678026922\n        ],\n        \"semantic_type\": \"\",\n        \"description\": \"\"\n      }\n    },\n    {\n      \"column\": \"salary\",\n      \"properties\": {\n        \"dtype\": \"number\",\n        \"std\": 1.0000417005483333,\n        \"min\": -2.1593730091678167,\n        \"max\": 1.0251112797180877,\n        \"num_unique_values\": 3,\n        \"samples\": [\n          -0.5671308647248644,\n          1.0251112797180877\n        ],\n        \"semantic_type\": \"\",\n        \"description\": \"\"\n      }\n    }\n  ]\n}",
              "type": "dataframe",
              "variable_name": "df_scaled"
            },
            "text/html": [
              "\n",
              "  <div id=\"df-aafe02db-a576-43cb-b654-77718e1916a1\" class=\"colab-df-container\">\n",
              "    <div>\n",
              "<style scoped>\n",
              "    .dataframe tbody tr th:only-of-type {\n",
              "        vertical-align: middle;\n",
              "    }\n",
              "\n",
              "    .dataframe tbody tr th {\n",
              "        vertical-align: top;\n",
              "    }\n",
              "\n",
              "    .dataframe thead th {\n",
              "        text-align: right;\n",
              "    }\n",
              "</style>\n",
              "<table border=\"1\" class=\"dataframe\">\n",
              "  <thead>\n",
              "    <tr style=\"text-align: right;\">\n",
              "      <th></th>\n",
              "      <th>satisfaction_level</th>\n",
              "      <th>last_evaluation</th>\n",
              "      <th>number_project</th>\n",
              "      <th>average_montly_hours</th>\n",
              "      <th>time_spend_company</th>\n",
              "      <th>Work_accident</th>\n",
              "      <th>left</th>\n",
              "      <th>promotion_last_5years</th>\n",
              "      <th>Department</th>\n",
              "      <th>salary</th>\n",
              "    </tr>\n",
              "  </thead>\n",
              "  <tbody>\n",
              "    <tr>\n",
              "      <th>0</th>\n",
              "      <td>-1.035668</td>\n",
              "      <td>-1.108990</td>\n",
              "      <td>-1.549921</td>\n",
              "      <td>-0.892208</td>\n",
              "      <td>-0.274291</td>\n",
              "      <td>-0.427116</td>\n",
              "      <td>2.241116</td>\n",
              "      <td>-0.131228</td>\n",
              "      <td>0.389405</td>\n",
              "      <td>-0.567131</td>\n",
              "    </tr>\n",
              "    <tr>\n",
              "      <th>1</th>\n",
              "      <td>0.706637</td>\n",
              "      <td>0.851380</td>\n",
              "      <td>1.029194</td>\n",
              "      <td>1.262709</td>\n",
              "      <td>1.981036</td>\n",
              "      <td>-0.427116</td>\n",
              "      <td>2.241116</td>\n",
              "      <td>-0.131228</td>\n",
              "      <td>0.389405</td>\n",
              "      <td>1.025111</td>\n",
              "    </tr>\n",
              "    <tr>\n",
              "      <th>2</th>\n",
              "      <td>-2.155721</td>\n",
              "      <td>0.970190</td>\n",
              "      <td>2.748604</td>\n",
              "      <td>1.467939</td>\n",
              "      <td>0.477485</td>\n",
              "      <td>-0.427116</td>\n",
              "      <td>2.241116</td>\n",
              "      <td>-0.131228</td>\n",
              "      <td>0.389405</td>\n",
              "      <td>1.025111</td>\n",
              "    </tr>\n",
              "    <tr>\n",
              "      <th>3</th>\n",
              "      <td>0.374770</td>\n",
              "      <td>0.910785</td>\n",
              "      <td>1.029194</td>\n",
              "      <td>0.462311</td>\n",
              "      <td>1.229261</td>\n",
              "      <td>-0.427116</td>\n",
              "      <td>2.241116</td>\n",
              "      <td>-0.131228</td>\n",
              "      <td>0.389405</td>\n",
              "      <td>-0.567131</td>\n",
              "    </tr>\n",
              "    <tr>\n",
              "      <th>4</th>\n",
              "      <td>-1.077151</td>\n",
              "      <td>-1.168396</td>\n",
              "      <td>-1.549921</td>\n",
              "      <td>-0.851162</td>\n",
              "      <td>-0.274291</td>\n",
              "      <td>-0.427116</td>\n",
              "      <td>2.241116</td>\n",
              "      <td>-0.131228</td>\n",
              "      <td>0.389405</td>\n",
              "      <td>-0.567131</td>\n",
              "    </tr>\n",
              "  </tbody>\n",
              "</table>\n",
              "</div>\n",
              "    <div class=\"colab-df-buttons\">\n",
              "\n",
              "  <div class=\"colab-df-container\">\n",
              "    <button class=\"colab-df-convert\" onclick=\"convertToInteractive('df-aafe02db-a576-43cb-b654-77718e1916a1')\"\n",
              "            title=\"Convert this dataframe to an interactive table.\"\n",
              "            style=\"display:none;\">\n",
              "\n",
              "  <svg xmlns=\"http://www.w3.org/2000/svg\" height=\"24px\" viewBox=\"0 -960 960 960\">\n",
              "    <path d=\"M120-120v-720h720v720H120Zm60-500h600v-160H180v160Zm220 220h160v-160H400v160Zm0 220h160v-160H400v160ZM180-400h160v-160H180v160Zm440 0h160v-160H620v160ZM180-180h160v-160H180v160Zm440 0h160v-160H620v160Z\"/>\n",
              "  </svg>\n",
              "    </button>\n",
              "\n",
              "  <style>\n",
              "    .colab-df-container {\n",
              "      display:flex;\n",
              "      gap: 12px;\n",
              "    }\n",
              "\n",
              "    .colab-df-convert {\n",
              "      background-color: #E8F0FE;\n",
              "      border: none;\n",
              "      border-radius: 50%;\n",
              "      cursor: pointer;\n",
              "      display: none;\n",
              "      fill: #1967D2;\n",
              "      height: 32px;\n",
              "      padding: 0 0 0 0;\n",
              "      width: 32px;\n",
              "    }\n",
              "\n",
              "    .colab-df-convert:hover {\n",
              "      background-color: #E2EBFA;\n",
              "      box-shadow: 0px 1px 2px rgba(60, 64, 67, 0.3), 0px 1px 3px 1px rgba(60, 64, 67, 0.15);\n",
              "      fill: #174EA6;\n",
              "    }\n",
              "\n",
              "    .colab-df-buttons div {\n",
              "      margin-bottom: 4px;\n",
              "    }\n",
              "\n",
              "    [theme=dark] .colab-df-convert {\n",
              "      background-color: #3B4455;\n",
              "      fill: #D2E3FC;\n",
              "    }\n",
              "\n",
              "    [theme=dark] .colab-df-convert:hover {\n",
              "      background-color: #434B5C;\n",
              "      box-shadow: 0px 1px 3px 1px rgba(0, 0, 0, 0.15);\n",
              "      filter: drop-shadow(0px 1px 2px rgba(0, 0, 0, 0.3));\n",
              "      fill: #FFFFFF;\n",
              "    }\n",
              "  </style>\n",
              "\n",
              "    <script>\n",
              "      const buttonEl =\n",
              "        document.querySelector('#df-aafe02db-a576-43cb-b654-77718e1916a1 button.colab-df-convert');\n",
              "      buttonEl.style.display =\n",
              "        google.colab.kernel.accessAllowed ? 'block' : 'none';\n",
              "\n",
              "      async function convertToInteractive(key) {\n",
              "        const element = document.querySelector('#df-aafe02db-a576-43cb-b654-77718e1916a1');\n",
              "        const dataTable =\n",
              "          await google.colab.kernel.invokeFunction('convertToInteractive',\n",
              "                                                    [key], {});\n",
              "        if (!dataTable) return;\n",
              "\n",
              "        const docLinkHtml = 'Like what you see? Visit the ' +\n",
              "          '<a target=\"_blank\" href=https://colab.research.google.com/notebooks/data_table.ipynb>data table notebook</a>'\n",
              "          + ' to learn more about interactive tables.';\n",
              "        element.innerHTML = '';\n",
              "        dataTable['output_type'] = 'display_data';\n",
              "        await google.colab.output.renderOutput(dataTable, element);\n",
              "        const docLink = document.createElement('div');\n",
              "        docLink.innerHTML = docLinkHtml;\n",
              "        element.appendChild(docLink);\n",
              "      }\n",
              "    </script>\n",
              "  </div>\n",
              "\n",
              "\n",
              "    <div id=\"df-3574af16-7d45-473a-a779-41fbdb4c6744\">\n",
              "      <button class=\"colab-df-quickchart\" onclick=\"quickchart('df-3574af16-7d45-473a-a779-41fbdb4c6744')\"\n",
              "                title=\"Suggest charts\"\n",
              "                style=\"display:none;\">\n",
              "\n",
              "<svg xmlns=\"http://www.w3.org/2000/svg\" height=\"24px\"viewBox=\"0 0 24 24\"\n",
              "     width=\"24px\">\n",
              "    <g>\n",
              "        <path d=\"M19 3H5c-1.1 0-2 .9-2 2v14c0 1.1.9 2 2 2h14c1.1 0 2-.9 2-2V5c0-1.1-.9-2-2-2zM9 17H7v-7h2v7zm4 0h-2V7h2v10zm4 0h-2v-4h2v4z\"/>\n",
              "    </g>\n",
              "</svg>\n",
              "      </button>\n",
              "\n",
              "<style>\n",
              "  .colab-df-quickchart {\n",
              "      --bg-color: #E8F0FE;\n",
              "      --fill-color: #1967D2;\n",
              "      --hover-bg-color: #E2EBFA;\n",
              "      --hover-fill-color: #174EA6;\n",
              "      --disabled-fill-color: #AAA;\n",
              "      --disabled-bg-color: #DDD;\n",
              "  }\n",
              "\n",
              "  [theme=dark] .colab-df-quickchart {\n",
              "      --bg-color: #3B4455;\n",
              "      --fill-color: #D2E3FC;\n",
              "      --hover-bg-color: #434B5C;\n",
              "      --hover-fill-color: #FFFFFF;\n",
              "      --disabled-bg-color: #3B4455;\n",
              "      --disabled-fill-color: #666;\n",
              "  }\n",
              "\n",
              "  .colab-df-quickchart {\n",
              "    background-color: var(--bg-color);\n",
              "    border: none;\n",
              "    border-radius: 50%;\n",
              "    cursor: pointer;\n",
              "    display: none;\n",
              "    fill: var(--fill-color);\n",
              "    height: 32px;\n",
              "    padding: 0;\n",
              "    width: 32px;\n",
              "  }\n",
              "\n",
              "  .colab-df-quickchart:hover {\n",
              "    background-color: var(--hover-bg-color);\n",
              "    box-shadow: 0 1px 2px rgba(60, 64, 67, 0.3), 0 1px 3px 1px rgba(60, 64, 67, 0.15);\n",
              "    fill: var(--button-hover-fill-color);\n",
              "  }\n",
              "\n",
              "  .colab-df-quickchart-complete:disabled,\n",
              "  .colab-df-quickchart-complete:disabled:hover {\n",
              "    background-color: var(--disabled-bg-color);\n",
              "    fill: var(--disabled-fill-color);\n",
              "    box-shadow: none;\n",
              "  }\n",
              "\n",
              "  .colab-df-spinner {\n",
              "    border: 2px solid var(--fill-color);\n",
              "    border-color: transparent;\n",
              "    border-bottom-color: var(--fill-color);\n",
              "    animation:\n",
              "      spin 1s steps(1) infinite;\n",
              "  }\n",
              "\n",
              "  @keyframes spin {\n",
              "    0% {\n",
              "      border-color: transparent;\n",
              "      border-bottom-color: var(--fill-color);\n",
              "      border-left-color: var(--fill-color);\n",
              "    }\n",
              "    20% {\n",
              "      border-color: transparent;\n",
              "      border-left-color: var(--fill-color);\n",
              "      border-top-color: var(--fill-color);\n",
              "    }\n",
              "    30% {\n",
              "      border-color: transparent;\n",
              "      border-left-color: var(--fill-color);\n",
              "      border-top-color: var(--fill-color);\n",
              "      border-right-color: var(--fill-color);\n",
              "    }\n",
              "    40% {\n",
              "      border-color: transparent;\n",
              "      border-right-color: var(--fill-color);\n",
              "      border-top-color: var(--fill-color);\n",
              "    }\n",
              "    60% {\n",
              "      border-color: transparent;\n",
              "      border-right-color: var(--fill-color);\n",
              "    }\n",
              "    80% {\n",
              "      border-color: transparent;\n",
              "      border-right-color: var(--fill-color);\n",
              "      border-bottom-color: var(--fill-color);\n",
              "    }\n",
              "    90% {\n",
              "      border-color: transparent;\n",
              "      border-bottom-color: var(--fill-color);\n",
              "    }\n",
              "  }\n",
              "</style>\n",
              "\n",
              "      <script>\n",
              "        async function quickchart(key) {\n",
              "          const quickchartButtonEl =\n",
              "            document.querySelector('#' + key + ' button');\n",
              "          quickchartButtonEl.disabled = true;  // To prevent multiple clicks.\n",
              "          quickchartButtonEl.classList.add('colab-df-spinner');\n",
              "          try {\n",
              "            const charts = await google.colab.kernel.invokeFunction(\n",
              "                'suggestCharts', [key], {});\n",
              "          } catch (error) {\n",
              "            console.error('Error during call to suggestCharts:', error);\n",
              "          }\n",
              "          quickchartButtonEl.classList.remove('colab-df-spinner');\n",
              "          quickchartButtonEl.classList.add('colab-df-quickchart-complete');\n",
              "        }\n",
              "        (() => {\n",
              "          let quickchartButtonEl =\n",
              "            document.querySelector('#df-3574af16-7d45-473a-a779-41fbdb4c6744 button');\n",
              "          quickchartButtonEl.style.display =\n",
              "            google.colab.kernel.accessAllowed ? 'block' : 'none';\n",
              "        })();\n",
              "      </script>\n",
              "    </div>\n",
              "\n",
              "    </div>\n",
              "  </div>\n"
            ],
            "text/plain": [
              "   satisfaction_level  last_evaluation  number_project  average_montly_hours  \\\n",
              "0           -1.035668        -1.108990       -1.549921             -0.892208   \n",
              "1            0.706637         0.851380        1.029194              1.262709   \n",
              "2           -2.155721         0.970190        2.748604              1.467939   \n",
              "3            0.374770         0.910785        1.029194              0.462311   \n",
              "4           -1.077151        -1.168396       -1.549921             -0.851162   \n",
              "\n",
              "   time_spend_company  Work_accident      left  promotion_last_5years  \\\n",
              "0           -0.274291      -0.427116  2.241116              -0.131228   \n",
              "1            1.981036      -0.427116  2.241116              -0.131228   \n",
              "2            0.477485      -0.427116  2.241116              -0.131228   \n",
              "3            1.229261      -0.427116  2.241116              -0.131228   \n",
              "4           -0.274291      -0.427116  2.241116              -0.131228   \n",
              "\n",
              "   Department    salary  \n",
              "0    0.389405 -0.567131  \n",
              "1    0.389405  1.025111  \n",
              "2    0.389405  1.025111  \n",
              "3    0.389405 -0.567131  \n",
              "4    0.389405 -0.567131  "
            ]
          },
          "execution_count": 22,
          "metadata": {},
          "output_type": "execute_result"
        }
      ],
      "source": [
        "from sklearn.preprocessing import StandardScaler\n",
        "df_scaled = pd.DataFrame(StandardScaler().fit_transform(df),\n",
        "                         columns=df.columns)\n",
        "df_scaled.head()"
      ]
    },
    {
      "cell_type": "markdown",
      "metadata": {
        "id": "WpmbaABr2snN"
      },
      "source": [
        "## 5. Model Building"
      ]
    },
    {
      "cell_type": "markdown",
      "metadata": {
        "id": "pYsKmaZd2snO"
      },
      "source": [
        "### Split Data as Train and Test Set"
      ]
    },
    {
      "cell_type": "code",
      "execution_count": null,
      "metadata": {
        "execution": {
          "iopub.execute_input": "2021-06-16T07:55:09.062682Z",
          "iopub.status.busy": "2021-06-16T07:55:09.062315Z",
          "iopub.status.idle": "2021-06-16T07:55:09.141527Z",
          "shell.execute_reply": "2021-06-16T07:55:09.140606Z",
          "shell.execute_reply.started": "2021-06-16T07:55:09.062644Z"
        },
        "id": "S15Bpefl2snS",
        "trusted": true
      },
      "outputs": [],
      "source": [
        "from sklearn.model_selection import train_test_split\n",
        "from imblearn.over_sampling import SMOTE, ADASYN"
      ]
    },
    {
      "cell_type": "code",
      "execution_count": null,
      "metadata": {
        "execution": {
          "iopub.execute_input": "2021-06-16T07:55:09.143313Z",
          "iopub.status.busy": "2021-06-16T07:55:09.14297Z",
          "iopub.status.idle": "2021-06-16T07:55:09.153949Z",
          "shell.execute_reply": "2021-06-16T07:55:09.153142Z",
          "shell.execute_reply.started": "2021-06-16T07:55:09.143275Z"
        },
        "id": "sEMY7EkT5cfj",
        "trusted": true
      },
      "outputs": [],
      "source": [
        "X=df.drop('left',axis=1)\n",
        "y=df.left\n",
        "X_train, X_test, y_train, y_test = train_test_split(X, y,test_size=0.3,random_state=42) # stratify=y"
      ]
    },
    {
      "cell_type": "code",
      "execution_count": null,
      "metadata": {
        "colab": {
          "base_uri": "https://localhost:8080/",
          "height": 178
        },
        "execution": {
          "iopub.execute_input": "2021-06-16T07:55:09.156076Z",
          "iopub.status.busy": "2021-06-16T07:55:09.155433Z",
          "iopub.status.idle": "2021-06-16T07:55:09.164348Z",
          "shell.execute_reply": "2021-06-16T07:55:09.163145Z",
          "shell.execute_reply.started": "2021-06-16T07:55:09.15603Z"
        },
        "id": "Fj4MStX-5cfj",
        "outputId": "d2d2772a-5f57-458d-e20e-8dad5d8a7e6c",
        "trusted": true
      },
      "outputs": [
        {
          "data": {
            "text/html": [
              "<div>\n",
              "<style scoped>\n",
              "    .dataframe tbody tr th:only-of-type {\n",
              "        vertical-align: middle;\n",
              "    }\n",
              "\n",
              "    .dataframe tbody tr th {\n",
              "        vertical-align: top;\n",
              "    }\n",
              "\n",
              "    .dataframe thead th {\n",
              "        text-align: right;\n",
              "    }\n",
              "</style>\n",
              "<table border=\"1\" class=\"dataframe\">\n",
              "  <thead>\n",
              "    <tr style=\"text-align: right;\">\n",
              "      <th></th>\n",
              "      <th>count</th>\n",
              "    </tr>\n",
              "    <tr>\n",
              "      <th>left</th>\n",
              "      <th></th>\n",
              "    </tr>\n",
              "  </thead>\n",
              "  <tbody>\n",
              "    <tr>\n",
              "      <th>0</th>\n",
              "      <td>7005</td>\n",
              "    </tr>\n",
              "    <tr>\n",
              "      <th>1</th>\n",
              "      <td>1388</td>\n",
              "    </tr>\n",
              "  </tbody>\n",
              "</table>\n",
              "</div><br><label><b>dtype:</b> int64</label>"
            ],
            "text/plain": [
              "left\n",
              "0    7005\n",
              "1    1388\n",
              "Name: count, dtype: int64"
            ]
          },
          "execution_count": 25,
          "metadata": {},
          "output_type": "execute_result"
        }
      ],
      "source": [
        "y_train.value_counts()"
      ]
    },
    {
      "cell_type": "markdown",
      "metadata": {
        "id": "TnO2HBDx5cfj"
      },
      "source": [
        "#### SMOTE"
      ]
    },
    {
      "cell_type": "code",
      "execution_count": null,
      "metadata": {
        "colab": {
          "base_uri": "https://localhost:8080/",
          "height": 178
        },
        "execution": {
          "iopub.execute_input": "2021-06-16T07:55:09.16625Z",
          "iopub.status.busy": "2021-06-16T07:55:09.165622Z",
          "iopub.status.idle": "2021-06-16T07:55:09.172997Z",
          "shell.execute_reply": "2021-06-16T07:55:09.171971Z",
          "shell.execute_reply.started": "2021-06-16T07:55:09.166211Z"
        },
        "id": "xc7xN05Q5cfj",
        "outputId": "073a92d9-9b43-4a15-f571-53e765493a5c",
        "trusted": true
      },
      "outputs": [
        {
          "data": {
            "text/html": [
              "<div>\n",
              "<style scoped>\n",
              "    .dataframe tbody tr th:only-of-type {\n",
              "        vertical-align: middle;\n",
              "    }\n",
              "\n",
              "    .dataframe tbody tr th {\n",
              "        vertical-align: top;\n",
              "    }\n",
              "\n",
              "    .dataframe thead th {\n",
              "        text-align: right;\n",
              "    }\n",
              "</style>\n",
              "<table border=\"1\" class=\"dataframe\">\n",
              "  <thead>\n",
              "    <tr style=\"text-align: right;\">\n",
              "      <th></th>\n",
              "      <th>count</th>\n",
              "    </tr>\n",
              "    <tr>\n",
              "      <th>left</th>\n",
              "      <th></th>\n",
              "    </tr>\n",
              "  </thead>\n",
              "  <tbody>\n",
              "    <tr>\n",
              "      <th>0</th>\n",
              "      <td>7005</td>\n",
              "    </tr>\n",
              "    <tr>\n",
              "      <th>1</th>\n",
              "      <td>7005</td>\n",
              "    </tr>\n",
              "  </tbody>\n",
              "</table>\n",
              "</div><br><label><b>dtype:</b> int64</label>"
            ],
            "text/plain": [
              "left\n",
              "0    7005\n",
              "1    7005\n",
              "Name: count, dtype: int64"
            ]
          },
          "execution_count": 26,
          "metadata": {},
          "output_type": "execute_result"
        }
      ],
      "source": [
        "sm = SMOTE(random_state=42)\n",
        "X_smote, y_smote = sm.fit_resample(X_train, y_train)\n",
        "y_smote.value_counts()"
      ]
    },
    {
      "cell_type": "markdown",
      "metadata": {
        "id": "IxBVbZCa5cfj"
      },
      "source": [
        "#### ADASYN"
      ]
    },
    {
      "cell_type": "code",
      "execution_count": null,
      "metadata": {
        "colab": {
          "base_uri": "https://localhost:8080/",
          "height": 178
        },
        "execution": {
          "iopub.execute_input": "2021-06-16T07:55:09.175158Z",
          "iopub.status.busy": "2021-06-16T07:55:09.174519Z",
          "iopub.status.idle": "2021-06-16T07:55:09.181313Z",
          "shell.execute_reply": "2021-06-16T07:55:09.18034Z",
          "shell.execute_reply.started": "2021-06-16T07:55:09.175118Z"
        },
        "id": "EYIHXdYG5cfj",
        "outputId": "0fa25636-a106-4777-cf5f-cfbb875b0a34",
        "trusted": true
      },
      "outputs": [
        {
          "data": {
            "text/html": [
              "<div>\n",
              "<style scoped>\n",
              "    .dataframe tbody tr th:only-of-type {\n",
              "        vertical-align: middle;\n",
              "    }\n",
              "\n",
              "    .dataframe tbody tr th {\n",
              "        vertical-align: top;\n",
              "    }\n",
              "\n",
              "    .dataframe thead th {\n",
              "        text-align: right;\n",
              "    }\n",
              "</style>\n",
              "<table border=\"1\" class=\"dataframe\">\n",
              "  <thead>\n",
              "    <tr style=\"text-align: right;\">\n",
              "      <th></th>\n",
              "      <th>count</th>\n",
              "    </tr>\n",
              "    <tr>\n",
              "      <th>left</th>\n",
              "      <th></th>\n",
              "    </tr>\n",
              "  </thead>\n",
              "  <tbody>\n",
              "    <tr>\n",
              "      <th>1</th>\n",
              "      <td>7070</td>\n",
              "    </tr>\n",
              "    <tr>\n",
              "      <th>0</th>\n",
              "      <td>7005</td>\n",
              "    </tr>\n",
              "  </tbody>\n",
              "</table>\n",
              "</div><br><label><b>dtype:</b> int64</label>"
            ],
            "text/plain": [
              "left\n",
              "1    7070\n",
              "0    7005\n",
              "Name: count, dtype: int64"
            ]
          },
          "execution_count": 27,
          "metadata": {},
          "output_type": "execute_result"
        }
      ],
      "source": [
        "ad = ADASYN(random_state=42)\n",
        "X_adasyn, y_adasyn = ad.fit_resample(X_train, y_train)\n",
        "y_adasyn.value_counts()"
      ]
    },
    {
      "cell_type": "code",
      "execution_count": null,
      "metadata": {
        "execution": {
          "iopub.execute_input": "2021-06-16T07:55:09.184787Z",
          "iopub.status.busy": "2021-06-16T07:55:09.184499Z",
          "iopub.status.idle": "2021-06-16T07:55:09.191345Z",
          "shell.execute_reply": "2021-06-16T07:55:09.190439Z",
          "shell.execute_reply.started": "2021-06-16T07:55:09.184752Z"
        },
        "id": "KQyCloxP5cfj",
        "trusted": true
      },
      "outputs": [],
      "source": [
        "# SMOTE\n",
        "# X_train, y_train = X_smote, y_smote\n",
        "\n",
        "# ADASYN\n",
        "X_train, y_train = X_adasyn, y_adasyn"
      ]
    },
    {
      "cell_type": "markdown",
      "metadata": {
        "id": "Y4d55Vek2snX"
      },
      "source": [
        "# `1.Gradient Boosting Classifier`"
      ]
    },
    {
      "cell_type": "markdown",
      "metadata": {
        "id": "L8OkbOrC2snY"
      },
      "source": [
        "#### Model Building"
      ]
    },
    {
      "cell_type": "code",
      "execution_count": null,
      "metadata": {
        "execution": {
          "iopub.execute_input": "2021-06-16T07:57:46.523548Z",
          "iopub.status.busy": "2021-06-16T07:57:46.523203Z",
          "iopub.status.idle": "2021-06-16T07:57:46.535872Z",
          "shell.execute_reply": "2021-06-16T07:57:46.534781Z",
          "shell.execute_reply.started": "2021-06-16T07:57:46.523516Z"
        },
        "id": "MefRCx542snY",
        "trusted": true
      },
      "outputs": [],
      "source": [
        "from sklearn.ensemble import GradientBoostingClassifier\n",
        "from yellowbrick.classifier import ClassificationReport\n",
        "from yellowbrick.datasets import load_occupancy\n",
        "from sklearn.metrics import accuracy_score,f1_score, recall_score, classification_report,confusion_matrix,precision_score,roc_auc_score\n",
        "from sklearn.model_selection import train_test_split, cross_val_score, TimeSeriesSplit, GridSearchCV, RandomizedSearchCV"
      ]
    },
    {
      "cell_type": "code",
      "execution_count": null,
      "metadata": {
        "execution": {
          "iopub.execute_input": "2021-06-16T07:57:46.571322Z",
          "iopub.status.busy": "2021-06-16T07:57:46.571063Z",
          "iopub.status.idle": "2021-06-16T07:57:47.374885Z",
          "shell.execute_reply": "2021-06-16T07:57:47.373905Z",
          "shell.execute_reply.started": "2021-06-16T07:57:46.571297Z"
        },
        "id": "IAsujrYz5cfl",
        "trusted": true
      },
      "outputs": [],
      "source": [
        "gbc = GradientBoostingClassifier().fit(X_train, y_train)\n",
        "y_pred = gbc.predict(X_test)"
      ]
    },
    {
      "cell_type": "markdown",
      "metadata": {
        "id": "VAiUMdtI2snk"
      },
      "source": [
        "#### Evaluating Model Performance"
      ]
    },
    {
      "cell_type": "code",
      "execution_count": null,
      "metadata": {
        "colab": {
          "base_uri": "https://localhost:8080/"
        },
        "execution": {
          "iopub.execute_input": "2021-06-16T07:57:47.376735Z",
          "iopub.status.busy": "2021-06-16T07:57:47.376379Z",
          "iopub.status.idle": "2021-06-16T07:57:47.401233Z",
          "shell.execute_reply": "2021-06-16T07:57:47.400212Z",
          "shell.execute_reply.started": "2021-06-16T07:57:47.376698Z"
        },
        "id": "CSUOz5302snx",
        "outputId": "81ac804d-1f79-43be-ce75-01a9009e5454",
        "trusted": true
      },
      "outputs": [
        {
          "name": "stdout",
          "output_type": "stream",
          "text": [
            "Confusion Matrix:\n",
            "[2797  198]\n",
            "[ 36 567]\n",
            "              precision    recall  f1-score   support\n",
            "\n",
            "           0       0.99      0.93      0.96      2995\n",
            "           1       0.74      0.94      0.83       603\n",
            "\n",
            "    accuracy                           0.93      3598\n",
            "   macro avg       0.86      0.94      0.89      3598\n",
            "weighted avg       0.95      0.93      0.94      3598\n",
            "\n"
          ]
        }
      ],
      "source": [
        "print('Confusion Matrix:',*confusion_matrix(y_test,y_pred), sep=\"\\n\")\n",
        "print(classification_report(y_test, y_pred))"
      ]
    },
    {
      "cell_type": "code",
      "execution_count": null,
      "metadata": {
        "colab": {
          "base_uri": "https://localhost:8080/"
        },
        "execution": {
          "iopub.execute_input": "2021-06-16T07:57:47.405631Z",
          "iopub.status.busy": "2021-06-16T07:57:47.405332Z",
          "iopub.status.idle": "2021-06-16T07:57:47.420109Z",
          "shell.execute_reply": "2021-06-16T07:57:47.419347Z",
          "shell.execute_reply.started": "2021-06-16T07:57:47.405604Z"
        },
        "id": "cnebYTIg5cfl",
        "outputId": "e1a88b35-ff76-4ae9-e82d-4939415c804b",
        "trusted": true
      },
      "outputs": [
        {
          "name": "stdout",
          "output_type": "stream",
          "text": [
            "gbc_accuracy: 0.9349638688160089 \n",
            "gbc_f1_score: 0.9379107928146333 \n",
            "gbc_recall: 0.9349638688160089\n"
          ]
        }
      ],
      "source": [
        "gbc_accuracy = accuracy_score(y_test, y_pred)\n",
        "gbc_f1_score = f1_score(y_test, y_pred, average='weighted')\n",
        "gbc_recall = recall_score(y_test, y_pred, average='weighted')\n",
        "print('gbc_accuracy:',gbc_accuracy,\n",
        "      '\\ngbc_f1_score:',gbc_f1_score,\n",
        "      '\\ngbc_recall:',gbc_recall)"
      ]
    },
    {
      "cell_type": "markdown",
      "metadata": {
        "id": "0p2GbHJD5cfl"
      },
      "source": [
        "#### Tunning"
      ]
    },
    {
      "cell_type": "code",
      "execution_count": null,
      "metadata": {
        "execution": {
          "iopub.execute_input": "2021-06-16T07:57:47.422193Z",
          "iopub.status.busy": "2021-06-16T07:57:47.421825Z",
          "iopub.status.idle": "2021-06-16T07:57:47.426152Z",
          "shell.execute_reply": "2021-06-16T07:57:47.425267Z",
          "shell.execute_reply.started": "2021-06-16T07:57:47.422156Z"
        },
        "id": "ZrN6f47j5cfl",
        "trusted": true
      },
      "outputs": [],
      "source": [
        "gbc = GradientBoostingClassifier()"
      ]
    },
    {
      "cell_type": "code",
      "execution_count": null,
      "metadata": {
        "execution": {
          "iopub.execute_input": "2021-06-16T07:57:47.428172Z",
          "iopub.status.busy": "2021-06-16T07:57:47.427635Z",
          "iopub.status.idle": "2021-06-16T07:57:47.435588Z",
          "shell.execute_reply": "2021-06-16T07:57:47.434735Z",
          "shell.execute_reply.started": "2021-06-16T07:57:47.428136Z"
        },
        "id": "5LGlB6-g5cfm",
        "trusted": true
      },
      "outputs": [],
      "source": [
        "gbc_params = {\"n_estimators\": [50,100,300],\n",
        "             \"subsample\":[0.1,0.5,1],\n",
        "             \"max_depth\":[3,7,9],\n",
        "             \"learning_rate\":[0.1,0.01,0.3]}"
      ]
    },
    {
      "cell_type": "code",
      "execution_count": null,
      "metadata": {
        "execution": {
          "iopub.execute_input": "2021-06-16T07:57:47.43726Z",
          "iopub.status.busy": "2021-06-16T07:57:47.43672Z",
          "iopub.status.idle": "2021-06-16T07:57:47.443378Z",
          "shell.execute_reply": "2021-06-16T07:57:47.442574Z",
          "shell.execute_reply.started": "2021-06-16T07:57:47.43722Z"
        },
        "id": "G5-iMk6H5cfm",
        "trusted": true
      },
      "outputs": [],
      "source": [
        "#gbc_grid= GridSearchCV(gbc, gbc_params, cv = 5,\n",
        "#                           n_jobs = -1, verbose = 2).fit(X_train, y_train)"
      ]
    },
    {
      "cell_type": "code",
      "execution_count": null,
      "metadata": {
        "colab": {
          "base_uri": "https://localhost:8080/"
        },
        "execution": {
          "iopub.execute_input": "2021-06-16T07:57:47.445325Z",
          "iopub.status.busy": "2021-06-16T07:57:47.444904Z",
          "iopub.status.idle": "2021-06-16T07:57:47.452457Z",
          "shell.execute_reply": "2021-06-16T07:57:47.451481Z",
          "shell.execute_reply.started": "2021-06-16T07:57:47.445289Z"
        },
        "id": "28vC4pp35cfm",
        "outputId": "c04c7661-90c6-46ae-d184-8d3b0986a242",
        "trusted": true
      },
      "outputs": [
        {
          "name": "stdout",
          "output_type": "stream",
          "text": [
            "Fitting 5 folds for each of 10 candidates, totalling 50 fits\n"
          ]
        }
      ],
      "source": [
        "gbc_grid= RandomizedSearchCV(gbc, gbc_params, cv = 5,\n",
        "                              n_iter=10,\n",
        "                           n_jobs = -1, verbose = 2,scoring='f1').fit(X_train, y_train)"
      ]
    },
    {
      "cell_type": "code",
      "execution_count": null,
      "metadata": {
        "execution": {
          "iopub.execute_input": "2021-06-16T07:57:47.455935Z",
          "iopub.status.busy": "2021-06-16T07:57:47.455574Z",
          "iopub.status.idle": "2021-06-16T07:57:47.464719Z",
          "shell.execute_reply": "2021-06-16T07:57:47.46353Z",
          "shell.execute_reply.started": "2021-06-16T07:57:47.455897Z"
        },
        "id": "GyMJtJdv5cfm",
        "trusted": true
      },
      "outputs": [],
      "source": [
        "gbc_grid.best_params_"
      ]
    },
    {
      "cell_type": "code",
      "execution_count": null,
      "metadata": {
        "execution": {
          "iopub.execute_input": "2021-06-16T07:57:47.467142Z",
          "iopub.status.busy": "2021-06-16T07:57:47.466594Z",
          "iopub.status.idle": "2021-06-16T07:57:47.473136Z",
          "shell.execute_reply": "2021-06-16T07:57:47.472271Z",
          "shell.execute_reply.started": "2021-06-16T07:57:47.467105Z"
        },
        "id": "xf7XrrVa5cfm",
        "trusted": true
      },
      "outputs": [],
      "source": [
        "gbc_tuned = GradientBoostingClassifier(learning_rate= 0.1,\n",
        "                         max_depth= 9,\n",
        "                         n_estimators= 300,\n",
        "                         subsample= 0.5).fit(X_train, y_train)\n",
        "\n",
        "y_pred = gbc_tuned.predict(X_test)"
      ]
    },
    {
      "cell_type": "code",
      "execution_count": null,
      "metadata": {
        "colab": {
          "base_uri": "https://localhost:8080/"
        },
        "execution": {
          "iopub.execute_input": "2021-06-16T07:57:56.321483Z",
          "iopub.status.busy": "2021-06-16T07:57:56.321127Z",
          "iopub.status.idle": "2021-06-16T07:57:56.345352Z",
          "shell.execute_reply": "2021-06-16T07:57:56.344299Z",
          "shell.execute_reply.started": "2021-06-16T07:57:56.321447Z"
        },
        "id": "hs09n9jQ5cfm",
        "outputId": "63eac122-059a-4829-c6de-dac985727de2",
        "trusted": true
      },
      "outputs": [
        {
          "name": "stdout",
          "output_type": "stream",
          "text": [
            "Confusion Matrix:\n",
            "[2953   42]\n",
            "[ 53 550]\n",
            "              precision    recall  f1-score   support\n",
            "\n",
            "           0       0.98      0.99      0.98      2995\n",
            "           1       0.93      0.91      0.92       603\n",
            "\n",
            "    accuracy                           0.97      3598\n",
            "   macro avg       0.96      0.95      0.95      3598\n",
            "weighted avg       0.97      0.97      0.97      3598\n",
            "\n"
          ]
        }
      ],
      "source": [
        "print('Confusion Matrix:',*confusion_matrix(y_test,y_pred), sep=\"\\n\")\n",
        "print(classification_report(y_test, y_pred))"
      ]
    },
    {
      "cell_type": "code",
      "execution_count": null,
      "metadata": {
        "execution": {
          "iopub.execute_input": "2021-06-16T07:57:56.347239Z",
          "iopub.status.busy": "2021-06-16T07:57:56.34683Z",
          "iopub.status.idle": "2021-06-16T07:57:56.360474Z",
          "shell.execute_reply": "2021-06-16T07:57:56.359591Z",
          "shell.execute_reply.started": "2021-06-16T07:57:56.347201Z"
        },
        "id": "6y70MQVv5cfm",
        "trusted": true
      },
      "outputs": [],
      "source": [
        "gbc_accuracy = accuracy_score(y_test, y_pred)\n",
        "gbc_f1_score = f1_score(y_test, y_pred, average='weighted')\n",
        "gbc_recall = recall_score(y_test, y_pred, average='weighted')\n",
        "print('gbc_accuracy:',gbc_accuracy,\n",
        "      '\\ngbc_f1_score:',gbc_f1_score,\n",
        "      '\\ngbc_recall:',gbc_recall)"
      ]
    },
    {
      "cell_type": "code",
      "execution_count": null,
      "metadata": {
        "execution": {
          "iopub.execute_input": "2021-06-16T07:57:56.362193Z",
          "iopub.status.busy": "2021-06-16T07:57:56.361839Z",
          "iopub.status.idle": "2021-06-16T07:57:56.379377Z",
          "shell.execute_reply": "2021-06-16T07:57:56.378355Z",
          "shell.execute_reply.started": "2021-06-16T07:57:56.362156Z"
        },
        "id": "w-4y5l-95cfm",
        "trusted": true
      },
      "outputs": [],
      "source": [
        "gbc_f1_true=float(classification_report(y_test, y_pred).split()[12])\n",
        "gbc_f1_true"
      ]
    },
    {
      "cell_type": "markdown",
      "metadata": {
        "id": "PfMy1D_p2soK"
      },
      "source": [
        "# ``3.Random Forest Classifier``"
      ]
    },
    {
      "cell_type": "markdown",
      "metadata": {
        "id": "M4GifMUw2soL"
      },
      "source": [
        "#### Model Building"
      ]
    },
    {
      "cell_type": "code",
      "execution_count": null,
      "metadata": {
        "execution": {
          "iopub.execute_input": "2021-06-16T07:57:56.381044Z",
          "iopub.status.busy": "2021-06-16T07:57:56.380703Z",
          "iopub.status.idle": "2021-06-16T07:57:57.342172Z",
          "shell.execute_reply": "2021-06-16T07:57:57.341308Z",
          "shell.execute_reply.started": "2021-06-16T07:57:56.381009Z"
        },
        "id": "uhjBZQbu2soN",
        "trusted": true
      },
      "outputs": [],
      "source": [
        "from sklearn.ensemble import RandomForestClassifier\n",
        "rf_model = RandomForestClassifier(n_estimators=100)\n",
        "rf_model.fit(X_train, y_train)\n",
        "\n",
        "y_pred = rf_model.predict(X_test)"
      ]
    },
    {
      "cell_type": "markdown",
      "metadata": {
        "id": "xRUPvrME2soc"
      },
      "source": [
        "#### Evaluating Model Performance"
      ]
    },
    {
      "cell_type": "code",
      "execution_count": null,
      "metadata": {
        "execution": {
          "iopub.execute_input": "2021-06-16T07:57:57.348453Z",
          "iopub.status.busy": "2021-06-16T07:57:57.346408Z",
          "iopub.status.idle": "2021-06-16T07:57:57.379827Z",
          "shell.execute_reply": "2021-06-16T07:57:57.379091Z",
          "shell.execute_reply.started": "2021-06-16T07:57:57.348399Z"
        },
        "id": "tXKuonpN2soe",
        "trusted": true
      },
      "outputs": [],
      "source": [
        "print('Confusion Matrix:',*confusion_matrix(y_test,y_pred), sep=\"\\n\")\n",
        "print(classification_report(y_test, y_pred))"
      ]
    },
    {
      "cell_type": "code",
      "execution_count": null,
      "metadata": {
        "execution": {
          "iopub.execute_input": "2021-06-16T07:57:57.385275Z",
          "iopub.status.busy": "2021-06-16T07:57:57.38332Z",
          "iopub.status.idle": "2021-06-16T07:57:57.402959Z",
          "shell.execute_reply": "2021-06-16T07:57:57.402232Z",
          "shell.execute_reply.started": "2021-06-16T07:57:57.385232Z"
        },
        "id": "lxgVlGat5cfn",
        "trusted": true
      },
      "outputs": [],
      "source": [
        "rfc_accuracy = accuracy_score(y_test, y_pred)\n",
        "rfc_f1_score = f1_score(y_test, y_pred, average='weighted')\n",
        "rfc_recall = recall_score(y_test, y_pred, average='weighted')\n",
        "print('rfc_accuracy:',rfc_accuracy,\n",
        "      '\\nrfc_f1_score:',rfc_f1_score,\n",
        "      '\\nrfc_recall:',rfc_recall)"
      ]
    },
    {
      "cell_type": "code",
      "execution_count": null,
      "metadata": {
        "execution": {
          "iopub.execute_input": "2021-06-16T07:57:57.408443Z",
          "iopub.status.busy": "2021-06-16T07:57:57.406537Z",
          "iopub.status.idle": "2021-06-16T07:57:57.430691Z",
          "shell.execute_reply": "2021-06-16T07:57:57.429912Z",
          "shell.execute_reply.started": "2021-06-16T07:57:57.408393Z"
        },
        "id": "zovBjxYA5cfn",
        "trusted": true
      },
      "outputs": [],
      "source": [
        "rf_f1_true=float(classification_report(y_test, y_pred).split()[12])\n",
        "rf_f1_true"
      ]
    },
    {
      "cell_type": "markdown",
      "metadata": {
        "id": "SKLtTwJ82som"
      },
      "source": [
        "#### Tunning"
      ]
    },
    {
      "cell_type": "code",
      "execution_count": null,
      "metadata": {
        "execution": {
          "iopub.execute_input": "2021-06-16T07:57:57.436184Z",
          "iopub.status.busy": "2021-06-16T07:57:57.434124Z",
          "iopub.status.idle": "2021-06-16T07:57:57.441133Z",
          "shell.execute_reply": "2021-06-16T07:57:57.440411Z",
          "shell.execute_reply.started": "2021-06-16T07:57:57.436148Z"
        },
        "id": "QdFUSrml2sop",
        "trusted": true
      },
      "outputs": [],
      "source": [
        "# rfc_params = {\"n_estimators\":[100,300,500],\n",
        "#               \"max_depth\":[7,10,15],\n",
        "#               \"max_features\": [8,10,15],\n",
        "#               \"min_samples_split\": [4,6,8]}"
      ]
    },
    {
      "cell_type": "code",
      "execution_count": null,
      "metadata": {
        "execution": {
          "iopub.execute_input": "2021-06-16T07:57:57.449496Z",
          "iopub.status.busy": "2021-06-16T07:57:57.447394Z",
          "iopub.status.idle": "2021-06-16T07:57:57.454682Z",
          "shell.execute_reply": "2021-06-16T07:57:57.453749Z",
          "shell.execute_reply.started": "2021-06-16T07:57:57.449459Z"
        },
        "id": "5XRCqWOb5cfn",
        "trusted": true
      },
      "outputs": [],
      "source": [
        "# rfc_grid = GridSearchCV(rf_model, rfc_params, cv = 5, n_jobs = -1, verbose = 2).fit(X_train, y_train)"
      ]
    },
    {
      "cell_type": "code",
      "execution_count": null,
      "metadata": {
        "execution": {
          "iopub.execute_input": "2021-06-16T07:57:57.462329Z",
          "iopub.status.busy": "2021-06-16T07:57:57.459978Z",
          "iopub.status.idle": "2021-06-16T07:57:57.467217Z",
          "shell.execute_reply": "2021-06-16T07:57:57.466302Z",
          "shell.execute_reply.started": "2021-06-16T07:57:57.462291Z"
        },
        "id": "rhI0CFkg5cfo",
        "trusted": true
      },
      "outputs": [],
      "source": [
        "# rfc_grid= RandomizedSearchCV(rf_model, rfc_params, cv = 5,\n",
        "#                              n_iter=10,\n",
        "#                             n_jobs = -1, verbose = 2,scoring='f1').fit(X_train, y_train)"
      ]
    },
    {
      "cell_type": "code",
      "execution_count": null,
      "metadata": {
        "execution": {
          "iopub.execute_input": "2021-06-16T07:57:57.472826Z",
          "iopub.status.busy": "2021-06-16T07:57:57.471199Z",
          "iopub.status.idle": "2021-06-16T07:57:57.479063Z",
          "shell.execute_reply": "2021-06-16T07:57:57.477978Z",
          "shell.execute_reply.started": "2021-06-16T07:57:57.472789Z"
        },
        "id": "w7bPCcUN5cfo",
        "trusted": true
      },
      "outputs": [],
      "source": [
        "# rfc_grid.best_params_"
      ]
    },
    {
      "cell_type": "code",
      "execution_count": null,
      "metadata": {
        "execution": {
          "iopub.execute_input": "2021-06-16T07:57:57.481939Z",
          "iopub.status.busy": "2021-06-16T07:57:57.480904Z",
          "iopub.status.idle": "2021-06-16T07:57:57.4889Z",
          "shell.execute_reply": "2021-06-16T07:57:57.48798Z",
          "shell.execute_reply.started": "2021-06-16T07:57:57.481876Z"
        },
        "id": "scfLM_x-5cfo",
        "trusted": true
      },
      "outputs": [],
      "source": [
        "rfc_tuned = RandomForestClassifier(max_depth = 20,\n",
        "                                   max_features = 7,\n",
        "                                   min_samples_split = 2,\n",
        "                                   n_estimators = 130).fit(X_train, y_train)"
      ]
    },
    {
      "cell_type": "code",
      "execution_count": null,
      "metadata": {
        "execution": {
          "iopub.execute_input": "2021-06-16T07:57:57.49107Z",
          "iopub.status.busy": "2021-06-16T07:57:57.490159Z",
          "iopub.status.idle": "2021-06-16T07:57:57.498402Z",
          "shell.execute_reply": "2021-06-16T07:57:57.497299Z",
          "shell.execute_reply.started": "2021-06-16T07:57:57.491032Z"
        },
        "id": "U34P0NCW5cfo",
        "trusted": true
      },
      "outputs": [],
      "source": [
        "y_pred = rfc_tuned.predict(X_test)\n",
        "print('Confusion Matrix:',*confusion_matrix(y_test,y_pred), sep=\"\\n\")\n",
        "print(classification_report(y_test, y_pred))"
      ]
    },
    {
      "cell_type": "markdown",
      "metadata": {
        "id": "zjQMOzub5cfo"
      },
      "source": [
        "# ``4.XGBoost Classifer``"
      ]
    },
    {
      "cell_type": "code",
      "execution_count": null,
      "metadata": {
        "execution": {
          "iopub.execute_input": "2021-06-16T07:57:57.500332Z",
          "iopub.status.busy": "2021-06-16T07:57:57.49983Z",
          "iopub.status.idle": "2021-06-16T07:58:01.364772Z",
          "shell.execute_reply": "2021-06-16T07:58:01.364007Z",
          "shell.execute_reply.started": "2021-06-16T07:57:57.500296Z"
        },
        "id": "G7XoEE4c5cfo",
        "trusted": true
      },
      "outputs": [],
      "source": [
        "from xgboost import XGBClassifier\n",
        "xgb= XGBClassifier()\n",
        "xgb.fit(X_train , y_train)\n",
        "y_pred = xgb.predict(X_test)"
      ]
    },
    {
      "cell_type": "code",
      "execution_count": null,
      "metadata": {
        "execution": {
          "iopub.execute_input": "2021-06-16T07:58:01.369798Z",
          "iopub.status.busy": "2021-06-16T07:58:01.368142Z",
          "iopub.status.idle": "2021-06-16T07:58:01.393216Z",
          "shell.execute_reply": "2021-06-16T07:58:01.392333Z",
          "shell.execute_reply.started": "2021-06-16T07:58:01.369756Z"
        },
        "id": "Zu4qNfa15cfo",
        "trusted": true
      },
      "outputs": [],
      "source": [
        "print('Confusion Matrix:',*confusion_matrix(y_test,y_pred), sep=\"\\n\")\n",
        "print(classification_report(y_test, y_pred))"
      ]
    },
    {
      "cell_type": "code",
      "execution_count": null,
      "metadata": {
        "execution": {
          "iopub.execute_input": "2021-06-16T07:58:01.394744Z",
          "iopub.status.busy": "2021-06-16T07:58:01.394403Z",
          "iopub.status.idle": "2021-06-16T07:58:01.408919Z",
          "shell.execute_reply": "2021-06-16T07:58:01.408023Z",
          "shell.execute_reply.started": "2021-06-16T07:58:01.394718Z"
        },
        "id": "BvWxGAj75cfo",
        "trusted": true
      },
      "outputs": [],
      "source": [
        "xgb_accuracy = accuracy_score(y_test, y_pred)\n",
        "xgb_f1_score = f1_score(y_test, y_pred, average='weighted')\n",
        "xgb_recall = recall_score(y_test, y_pred, average='weighted')\n",
        "print('xgb_accuracy:',xgb_accuracy,\n",
        "      '\\nxgb_f1_score:',xgb_f1_score,\n",
        "      '\\nxgb_recall:',xgb_recall)"
      ]
    },
    {
      "cell_type": "markdown",
      "metadata": {
        "id": "_-KS6wAN5cfp"
      },
      "source": [
        "#### Tunning"
      ]
    },
    {
      "cell_type": "code",
      "execution_count": null,
      "metadata": {
        "execution": {
          "iopub.execute_input": "2021-06-16T07:58:01.410786Z",
          "iopub.status.busy": "2021-06-16T07:58:01.410182Z",
          "iopub.status.idle": "2021-06-16T07:58:01.414777Z",
          "shell.execute_reply": "2021-06-16T07:58:01.413678Z",
          "shell.execute_reply.started": "2021-06-16T07:58:01.410747Z"
        },
        "id": "AYsrqo1W5cfp",
        "trusted": true
      },
      "outputs": [],
      "source": [
        "xgb = XGBClassifier()"
      ]
    },
    {
      "cell_type": "code",
      "execution_count": null,
      "metadata": {
        "execution": {
          "iopub.execute_input": "2021-06-16T07:58:01.416848Z",
          "iopub.status.busy": "2021-06-16T07:58:01.416371Z",
          "iopub.status.idle": "2021-06-16T07:58:01.424441Z",
          "shell.execute_reply": "2021-06-16T07:58:01.423562Z",
          "shell.execute_reply.started": "2021-06-16T07:58:01.41681Z"
        },
        "id": "5mPdYwCr5cfp",
        "trusted": true
      },
      "outputs": [],
      "source": [
        "xgb_params = {\"n_estimators\": [50,500,1000],\n",
        "             \"subsample\":[0.1,0.5,1],\n",
        "             \"max_depth\":[3,7,9],\n",
        "             \"learning_rate\":[0.1,0.01,0.3]}"
      ]
    },
    {
      "cell_type": "code",
      "execution_count": null,
      "metadata": {
        "execution": {
          "iopub.execute_input": "2021-06-16T07:58:01.425689Z",
          "iopub.status.busy": "2021-06-16T07:58:01.425369Z",
          "iopub.status.idle": "2021-06-16T07:58:01.435989Z",
          "shell.execute_reply": "2021-06-16T07:58:01.435021Z",
          "shell.execute_reply.started": "2021-06-16T07:58:01.42565Z"
        },
        "id": "UovWbMWv5cfp",
        "trusted": true
      },
      "outputs": [],
      "source": [
        "# xgb_grid= GridSearchCV(xgb, xgb_params, cv = 5,\n",
        "#                             n_jobs = -1, verbose = 2).fit(X_train, y_train)"
      ]
    },
    {
      "cell_type": "code",
      "execution_count": null,
      "metadata": {
        "execution": {
          "iopub.execute_input": "2021-06-16T07:58:01.437728Z",
          "iopub.status.busy": "2021-06-16T07:58:01.437439Z",
          "iopub.status.idle": "2021-06-16T07:58:01.445999Z",
          "shell.execute_reply": "2021-06-16T07:58:01.444982Z",
          "shell.execute_reply.started": "2021-06-16T07:58:01.437701Z"
        },
        "id": "IewKh9B45cfp",
        "trusted": true
      },
      "outputs": [],
      "source": [
        "# xgb_grid= RandomizedSearchCV(xgb, xgb_params, cv = 5,\n",
        "#                              n_iter=10,\n",
        "#                             n_jobs = -1, verbose = 2,scoring='f1').fit(X_train, y_train)"
      ]
    },
    {
      "cell_type": "code",
      "execution_count": null,
      "metadata": {
        "execution": {
          "iopub.execute_input": "2021-06-16T07:58:01.448094Z",
          "iopub.status.busy": "2021-06-16T07:58:01.447409Z",
          "iopub.status.idle": "2021-06-16T07:58:01.457463Z",
          "shell.execute_reply": "2021-06-16T07:58:01.456474Z",
          "shell.execute_reply.started": "2021-06-16T07:58:01.448056Z"
        },
        "id": "fwSODfBr5cfp",
        "trusted": true
      },
      "outputs": [],
      "source": [
        "# xgb_grid.best_params_"
      ]
    },
    {
      "cell_type": "code",
      "execution_count": null,
      "metadata": {
        "execution": {
          "iopub.execute_input": "2021-06-16T07:58:01.459487Z",
          "iopub.status.busy": "2021-06-16T07:58:01.458908Z",
          "iopub.status.idle": "2021-06-16T07:58:05.045238Z",
          "shell.execute_reply": "2021-06-16T07:58:05.044473Z",
          "shell.execute_reply.started": "2021-06-16T07:58:01.459445Z"
        },
        "id": "lzA6qLxo5cfp",
        "trusted": true
      },
      "outputs": [],
      "source": [
        "xgb_tuned = XGBClassifier(learning_rate= 0.1,\n",
        "                                max_depth= 9,\n",
        "                                n_estimators= 500,\n",
        "                                subsample= 1).fit(X_train, y_train)\n",
        "\n",
        "y_pred = xgb_tuned.predict(X_test)"
      ]
    },
    {
      "cell_type": "code",
      "execution_count": null,
      "metadata": {
        "execution": {
          "iopub.execute_input": "2021-06-16T07:58:05.050258Z",
          "iopub.status.busy": "2021-06-16T07:58:05.048651Z",
          "iopub.status.idle": "2021-06-16T07:58:10.063709Z",
          "shell.execute_reply": "2021-06-16T07:58:10.062961Z",
          "shell.execute_reply.started": "2021-06-16T07:58:05.049052Z"
        },
        "id": "RuQrT9ea5cfp",
        "trusted": true
      },
      "outputs": [],
      "source": [
        "xgb_tuned = XGBClassifier(learning_rate= 0.1,\n",
        "                                max_depth= 11,\n",
        "                                n_estimators= 600,\n",
        "                                subsample= 1).fit(X_train, y_train)\n",
        "\n",
        "y_pred = xgb_tuned.predict(X_test)"
      ]
    },
    {
      "cell_type": "code",
      "execution_count": null,
      "metadata": {
        "execution": {
          "iopub.execute_input": "2021-06-16T07:58:10.065655Z",
          "iopub.status.busy": "2021-06-16T07:58:10.065057Z",
          "iopub.status.idle": "2021-06-16T07:58:10.090944Z",
          "shell.execute_reply": "2021-06-16T07:58:10.090139Z",
          "shell.execute_reply.started": "2021-06-16T07:58:10.065615Z"
        },
        "id": "AHwYjhFD5cfp",
        "trusted": true
      },
      "outputs": [],
      "source": [
        "print('Confusion Matrix:',*confusion_matrix(y_test,y_pred), sep=\"\\n\")\n",
        "print(classification_report(y_test, y_pred))"
      ]
    },
    {
      "cell_type": "code",
      "execution_count": null,
      "metadata": {
        "execution": {
          "iopub.execute_input": "2021-06-16T07:58:10.092537Z",
          "iopub.status.busy": "2021-06-16T07:58:10.092189Z",
          "iopub.status.idle": "2021-06-16T07:58:10.106001Z",
          "shell.execute_reply": "2021-06-16T07:58:10.105024Z",
          "shell.execute_reply.started": "2021-06-16T07:58:10.092501Z"
        },
        "id": "h3gIzYnw5cfp",
        "trusted": true
      },
      "outputs": [],
      "source": [
        "xgb_accuracy = accuracy_score(y_test, y_pred)\n",
        "xgb_f1_score = f1_score(y_test, y_pred, average='weighted')\n",
        "xgb_recall = recall_score(y_test, y_pred, average='weighted')\n",
        "print('xgb_accuracy:',xgb_accuracy,\n",
        "      '\\nxgb_f1_score:',xgb_f1_score,\n",
        "      '\\nxgb_recall:',xgb_recall)"
      ]
    },
    {
      "cell_type": "code",
      "execution_count": null,
      "metadata": {
        "execution": {
          "iopub.execute_input": "2021-06-16T07:58:10.10778Z",
          "iopub.status.busy": "2021-06-16T07:58:10.107411Z",
          "iopub.status.idle": "2021-06-16T07:58:10.123828Z",
          "shell.execute_reply": "2021-06-16T07:58:10.122912Z",
          "shell.execute_reply.started": "2021-06-16T07:58:10.107745Z"
        },
        "id": "R1Xr66J85cfq",
        "trusted": true
      },
      "outputs": [],
      "source": [
        "xgb_f1_true=float(classification_report(y_test, y_pred).split()[12])\n",
        "xgb_f1_true"
      ]
    },
    {
      "cell_type": "markdown",
      "metadata": {
        "id": "z9P157eX2sn2"
      },
      "source": [
        "# ``2.KNeighborsClassifer``"
      ]
    },
    {
      "cell_type": "code",
      "execution_count": null,
      "metadata": {
        "execution": {
          "iopub.execute_input": "2021-06-16T07:58:10.125464Z",
          "iopub.status.busy": "2021-06-16T07:58:10.125106Z",
          "iopub.status.idle": "2021-06-16T07:58:10.135454Z",
          "shell.execute_reply": "2021-06-16T07:58:10.134618Z",
          "shell.execute_reply.started": "2021-06-16T07:58:10.125429Z"
        },
        "id": "uxs4lbqF5cfq",
        "trusted": true
      },
      "outputs": [],
      "source": [
        "X=df_scaled.drop('left',axis=1)\n",
        "y=df.left\n",
        "X_train, X_test, y_train, y_test = train_test_split(X, y,test_size=0.3,random_state=42) # stratify=y"
      ]
    },
    {
      "cell_type": "markdown",
      "metadata": {
        "id": "QPakx2ON2sn3"
      },
      "source": [
        "#### Model Building"
      ]
    },
    {
      "cell_type": "code",
      "execution_count": null,
      "metadata": {
        "execution": {
          "iopub.execute_input": "2021-06-16T07:58:10.137311Z",
          "iopub.status.busy": "2021-06-16T07:58:10.136933Z",
          "iopub.status.idle": "2021-06-16T07:58:10.142496Z",
          "shell.execute_reply": "2021-06-16T07:58:10.140674Z",
          "shell.execute_reply.started": "2021-06-16T07:58:10.137276Z"
        },
        "id": "HkNI16f72sn4",
        "trusted": true
      },
      "outputs": [],
      "source": [
        "from sklearn.neighbors import KNeighborsClassifier"
      ]
    },
    {
      "cell_type": "code",
      "execution_count": null,
      "metadata": {
        "execution": {
          "iopub.execute_input": "2021-06-16T07:58:10.147779Z",
          "iopub.status.busy": "2021-06-16T07:58:10.147541Z",
          "iopub.status.idle": "2021-06-16T07:58:10.536743Z",
          "shell.execute_reply": "2021-06-16T07:58:10.535442Z",
          "shell.execute_reply.started": "2021-06-16T07:58:10.147756Z"
        },
        "id": "b6dFeeZT5cfq",
        "trusted": true
      },
      "outputs": [],
      "source": [
        "knn = KNeighborsClassifier(n_neighbors=1)\n",
        "knn.fit(X_train,y_train)\n",
        "y_pred = knn.predict(X_test)"
      ]
    },
    {
      "cell_type": "code",
      "execution_count": null,
      "metadata": {
        "execution": {
          "iopub.execute_input": "2021-06-16T07:58:10.539353Z",
          "iopub.status.busy": "2021-06-16T07:58:10.53895Z",
          "iopub.status.idle": "2021-06-16T07:58:22.23092Z",
          "shell.execute_reply": "2021-06-16T07:58:22.229947Z",
          "shell.execute_reply.started": "2021-06-16T07:58:10.539311Z"
        },
        "id": "T-Gi17185cfq",
        "trusted": true
      },
      "outputs": [],
      "source": [
        "neighbors = range(1,10)\n",
        "train_accuracy =np.empty(len(neighbors))\n",
        "test_accuracy = np.empty(len(neighbors))\n",
        "\n",
        "for i,k in enumerate(neighbors):\n",
        "    #Setup a knn classifier with k neighbors\n",
        "    knn = KNeighborsClassifier(n_neighbors = k)\n",
        "\n",
        "    #Fit the model\n",
        "    knn.fit(X_train, y_train)\n",
        "\n",
        "    #Compute accuracy on the training set\n",
        "    train_accuracy[i] = knn.score(X_train, y_train)\n",
        "\n",
        "    #Compute accuracy on the test set\n",
        "    test_accuracy[i] = knn.score(X_test, y_test)"
      ]
    },
    {
      "cell_type": "code",
      "execution_count": null,
      "metadata": {
        "execution": {
          "iopub.execute_input": "2021-06-16T07:58:22.232643Z",
          "iopub.status.busy": "2021-06-16T07:58:22.232259Z",
          "iopub.status.idle": "2021-06-16T07:58:22.4082Z",
          "shell.execute_reply": "2021-06-16T07:58:22.407122Z",
          "shell.execute_reply.started": "2021-06-16T07:58:22.232604Z"
        },
        "id": "5L4o9MLv5cfq",
        "trusted": true
      },
      "outputs": [],
      "source": [
        "plt.figure(figsize=(8,5))\n",
        "plt.title('k-NN assesment of number of neighbors')\n",
        "plt.plot(neighbors, test_accuracy, label='Accuracy of Test Data')\n",
        "plt.plot(neighbors, train_accuracy, label='Accuracy of Training Data')\n",
        "plt.legend()\n",
        "plt.xlabel('Number of neighbors')\n",
        "plt.ylabel('Accuracy')\n",
        "plt.show()"
      ]
    },
    {
      "cell_type": "markdown",
      "metadata": {
        "id": "jrjPm6go5cfq"
      },
      "source": [
        "#### **Find Optimum K Value with Elbow Method**"
      ]
    },
    {
      "cell_type": "code",
      "execution_count": null,
      "metadata": {
        "execution": {
          "iopub.execute_input": "2021-06-16T07:58:22.409845Z",
          "iopub.status.busy": "2021-06-16T07:58:22.409517Z",
          "iopub.status.idle": "2021-06-16T07:58:26.905165Z",
          "shell.execute_reply": "2021-06-16T07:58:26.903895Z",
          "shell.execute_reply.started": "2021-06-16T07:58:22.40981Z"
        },
        "id": "KhLCDmCY5cfq",
        "trusted": true
      },
      "outputs": [],
      "source": [
        "error_rate = []\n",
        "\n",
        "for i in range(1,10):\n",
        "\n",
        "    model = KNeighborsClassifier(n_neighbors=i) # k= i\n",
        "    model.fit(X_train,y_train)\n",
        "    y_pred_i = model.predict(X_test)\n",
        "    error_rate.append(np.mean(y_pred_i != y_test))"
      ]
    },
    {
      "cell_type": "code",
      "execution_count": null,
      "metadata": {
        "execution": {
          "iopub.execute_input": "2021-06-16T07:58:26.908121Z",
          "iopub.status.busy": "2021-06-16T07:58:26.907285Z",
          "iopub.status.idle": "2021-06-16T07:58:27.094432Z",
          "shell.execute_reply": "2021-06-16T07:58:27.093295Z",
          "shell.execute_reply.started": "2021-06-16T07:58:26.908073Z"
        },
        "id": "ppgk55YW5cfr",
        "trusted": true
      },
      "outputs": [],
      "source": [
        "plt.figure(figsize=(10,6))\n",
        "plt.plot(range(1,10),\n",
        "         error_rate,\n",
        "         color='blue',\n",
        "         linestyle='dashed',\n",
        "         marker='o',\n",
        "         markerfacecolor='red',\n",
        "         markersize=10)\n",
        "plt.title('Error Rate vs. K Value')\n",
        "plt.xlabel('K')\n",
        "plt.ylabel('Error Rate');"
      ]
    },
    {
      "cell_type": "markdown",
      "metadata": {
        "id": "RzQhH3_M5cfr"
      },
      "source": [
        "#### Tunning"
      ]
    },
    {
      "cell_type": "code",
      "execution_count": null,
      "metadata": {
        "execution": {
          "iopub.execute_input": "2021-06-16T07:58:27.096389Z",
          "iopub.status.busy": "2021-06-16T07:58:27.096008Z",
          "iopub.status.idle": "2021-06-16T07:58:27.100781Z",
          "shell.execute_reply": "2021-06-16T07:58:27.099645Z",
          "shell.execute_reply.started": "2021-06-16T07:58:27.096348Z"
        },
        "id": "lGkEgP0x5cfr",
        "trusted": true
      },
      "outputs": [],
      "source": [
        "# knn = KNeighborsClassifier()\n",
        "# knn_params = {\"n_neighbors\": range(1,10,2)}\n",
        "\n",
        "# knn_cv_model = GridSearchCV(knn, knn_params, cv=10).fit(X_train, y_train)"
      ]
    },
    {
      "cell_type": "code",
      "execution_count": null,
      "metadata": {
        "execution": {
          "iopub.execute_input": "2021-06-16T07:58:27.102813Z",
          "iopub.status.busy": "2021-06-16T07:58:27.102348Z",
          "iopub.status.idle": "2021-06-16T07:58:27.111342Z",
          "shell.execute_reply": "2021-06-16T07:58:27.110485Z",
          "shell.execute_reply.started": "2021-06-16T07:58:27.102771Z"
        },
        "id": "dDHg87k55cfr",
        "trusted": true
      },
      "outputs": [],
      "source": [
        "# knn_cv_model.best_params_"
      ]
    },
    {
      "cell_type": "code",
      "execution_count": null,
      "metadata": {
        "execution": {
          "iopub.execute_input": "2021-06-16T07:58:27.112489Z",
          "iopub.status.busy": "2021-06-16T07:58:27.1122Z",
          "iopub.status.idle": "2021-06-16T07:58:27.520409Z",
          "shell.execute_reply": "2021-06-16T07:58:27.519471Z",
          "shell.execute_reply.started": "2021-06-16T07:58:27.112451Z"
        },
        "id": "SSb70EdH5cfr",
        "trusted": true
      },
      "outputs": [],
      "source": [
        "knn_tuned= KNeighborsClassifier(n_neighbors = 1).fit(X_train, y_train)\n",
        "y_pred = knn_tuned.predict(X_test)"
      ]
    },
    {
      "cell_type": "markdown",
      "metadata": {
        "id": "MdGymWJ_2sn9"
      },
      "source": [
        "#### Evaluating Model Performance"
      ]
    },
    {
      "cell_type": "code",
      "execution_count": null,
      "metadata": {
        "execution": {
          "iopub.execute_input": "2021-06-16T07:58:27.522364Z",
          "iopub.status.busy": "2021-06-16T07:58:27.521919Z",
          "iopub.status.idle": "2021-06-16T07:58:27.549396Z",
          "shell.execute_reply": "2021-06-16T07:58:27.548429Z",
          "shell.execute_reply.started": "2021-06-16T07:58:27.522306Z"
        },
        "id": "TPF_wziW2soC",
        "trusted": true
      },
      "outputs": [],
      "source": [
        "print('Confusion Matrix:',*confusion_matrix(y_test,y_pred), sep=\"\\n\")\n",
        "print(classification_report(y_test, y_pred))"
      ]
    },
    {
      "cell_type": "code",
      "execution_count": null,
      "metadata": {
        "execution": {
          "iopub.execute_input": "2021-06-16T07:58:27.551195Z",
          "iopub.status.busy": "2021-06-16T07:58:27.550808Z",
          "iopub.status.idle": "2021-06-16T07:58:27.567037Z",
          "shell.execute_reply": "2021-06-16T07:58:27.565942Z",
          "shell.execute_reply.started": "2021-06-16T07:58:27.551155Z"
        },
        "id": "EUPhD3KU5cfr",
        "trusted": true
      },
      "outputs": [],
      "source": [
        "knn_accuracy = accuracy_score(y_test, y_pred)\n",
        "knn_f1_score = f1_score(y_test, y_pred, average='weighted')\n",
        "knn_recall = recall_score(y_test, y_pred, average='weighted')\n",
        "print('knn_accuracy:',knn_accuracy,\n",
        "      '\\nknn_f1_score:',knn_f1_score,\n",
        "      '\\nknn_recall:',knn_recall)"
      ]
    },
    {
      "cell_type": "code",
      "execution_count": null,
      "metadata": {
        "execution": {
          "iopub.execute_input": "2021-06-16T07:58:27.569269Z",
          "iopub.status.busy": "2021-06-16T07:58:27.568708Z",
          "iopub.status.idle": "2021-06-16T07:58:27.58753Z",
          "shell.execute_reply": "2021-06-16T07:58:27.586399Z",
          "shell.execute_reply.started": "2021-06-16T07:58:27.569225Z"
        },
        "id": "N49LockB5cfr",
        "trusted": true
      },
      "outputs": [],
      "source": [
        "knn_f1_true=float(classification_report(y_test, y_pred).split()[12])\n",
        "knn_f1_true"
      ]
    },
    {
      "cell_type": "markdown",
      "metadata": {
        "id": "Op_ueZeX5cfs"
      },
      "source": [
        "### `Compare Models Accuracies & F1 Scores & Recall`"
      ]
    },
    {
      "cell_type": "code",
      "execution_count": null,
      "metadata": {
        "execution": {
          "iopub.execute_input": "2021-06-16T07:58:27.589486Z",
          "iopub.status.busy": "2021-06-16T07:58:27.589051Z",
          "iopub.status.idle": "2021-06-16T07:58:28.294665Z",
          "shell.execute_reply": "2021-06-16T07:58:28.293762Z",
          "shell.execute_reply.started": "2021-06-16T07:58:27.589426Z"
        },
        "id": "VSFEeWxP5cfs",
        "trusted": true
      },
      "outputs": [],
      "source": [
        "compare = pd.DataFrame({\"Model\": [\"Random Forest\", \"XGBoost\",\"Gradient Boosting\",\"K-Nearest Neighbor\"],\n",
        "                        \"Accuracy\": [rfc_accuracy, xgb_accuracy, gbc_accuracy,knn_accuracy],\n",
        "                        \"F1 Score\": [rfc_f1_score, xgb_f1_score, gbc_f1_score, knn_f1_score],\n",
        "                        \"Recall\": [rfc_recall, xgb_recall, gbc_recall,knn_recall],\n",
        "                        \"F1 Score (True)\": [rf_f1_true, xgb_f1_true, gbc_f1_true, knn_f1_true]})\n",
        "\n",
        "def labels(ax):\n",
        "    for p in ax.patches:\n",
        "        width = p.get_width()    # get bar length\n",
        "        ax.text(width,       # set the text at 1 unit right of the bar\n",
        "                p.get_y() + p.get_height() / 2, # get Y coordinate + X coordinate / 2\n",
        "                '{:1.2f}'.format(width), # set variable to display, 2 decimals\n",
        "                ha = 'left',   # horizontal alignment\n",
        "                va = 'center')  # vertical alignment\n",
        "\n",
        "plt.subplot(411)\n",
        "compare = compare.sort_values(by=\"Accuracy\", ascending=False)\n",
        "ax=sns.barplot(x=\"Accuracy\", y=\"Model\", data=compare, palette=\"Blues_d\")\n",
        "labels(ax)\n",
        "plt.show()\n",
        "\n",
        "plt.subplot(412)\n",
        "compare = compare.sort_values(by=\"Recall\", ascending=False)\n",
        "ax=sns.barplot(x=\"Recall\", y=\"Model\", data=compare, palette=\"Blues_d\")\n",
        "labels(ax)\n",
        "plt.xlabel('Recall (Weighted)')\n",
        "plt.show()\n",
        "\n",
        "plt.subplot(413)\n",
        "compare = compare.sort_values(by=\"F1 Score\", ascending=False)\n",
        "ax=sns.barplot(x=\"F1 Score\", y=\"Model\", data=compare, palette=\"Blues_d\")\n",
        "labels(ax)\n",
        "plt.xlabel('F1 Score (Weighted)')\n",
        "plt.show()\n",
        "\n",
        "plt.subplot(414)\n",
        "compare = compare.sort_values(by=\"F1 Score\", ascending=False)\n",
        "ax=sns.barplot(x=\"F1 Score (True)\", y=\"Model\", data=compare, palette=\"Blues_d\")\n",
        "labels(ax)\n",
        "plt.show()"
      ]
    },
    {
      "cell_type": "markdown",
      "metadata": {
        "id": "zXCekMEA5cfs"
      },
      "source": [
        "### Feature Importance for XGBoost"
      ]
    },
    {
      "cell_type": "code",
      "execution_count": null,
      "metadata": {
        "execution": {
          "iopub.execute_input": "2021-06-16T07:58:28.300777Z",
          "iopub.status.busy": "2021-06-16T07:58:28.298672Z",
          "iopub.status.idle": "2021-06-16T07:58:28.825409Z",
          "shell.execute_reply": "2021-06-16T07:58:28.824526Z",
          "shell.execute_reply.started": "2021-06-16T07:58:28.300731Z"
        },
        "id": "v-hFa_Bz5cfs",
        "trusted": true
      },
      "outputs": [],
      "source": [
        "feature_imp = pd.Series(xgb_tuned.feature_importances_,\n",
        "                        index=X.columns).sort_values(ascending=False)\n",
        "\n",
        "sns.barplot(x=feature_imp, y=feature_imp.index)\n",
        "plt.title(\"Feature Importance\")\n",
        "plt.show()\n",
        "\n",
        "feature_imp[:10]"
      ]
    },
    {
      "cell_type": "markdown",
      "metadata": {
        "id": "WfcxXLaO5cfs"
      },
      "source": [
        "### Feature Importance for Random Forest"
      ]
    },
    {
      "cell_type": "code",
      "execution_count": null,
      "metadata": {
        "execution": {
          "iopub.execute_input": "2021-06-16T07:58:28.827283Z",
          "iopub.status.busy": "2021-06-16T07:58:28.82673Z",
          "iopub.status.idle": "2021-06-16T07:58:29.131734Z",
          "shell.execute_reply": "2021-06-16T07:58:29.12978Z",
          "shell.execute_reply.started": "2021-06-16T07:58:28.827236Z"
        },
        "id": "j_nAW3h45cfs",
        "trusted": true
      },
      "outputs": [],
      "source": [
        "feature_imp = pd.Series(rf_model.feature_importances_,\n",
        "                        index=X.columns).sort_values(ascending=False)\n",
        "\n",
        "sns.barplot(x=feature_imp, y=feature_imp.index)\n",
        "plt.title(\"Feature Importance\")\n",
        "plt.show()\n",
        "\n",
        "feature_imp[:10]"
      ]
    },
    {
      "cell_type": "markdown",
      "metadata": {
        "id": "m5pwXBOkJPeM"
      },
      "source": [
        "### Save and Export the Model as .pkl"
      ]
    },
    {
      "cell_type": "code",
      "execution_count": null,
      "metadata": {
        "execution": {
          "iopub.execute_input": "2021-06-16T07:58:29.133546Z",
          "iopub.status.busy": "2021-06-16T07:58:29.133041Z",
          "iopub.status.idle": "2021-06-16T07:58:29.166756Z",
          "shell.execute_reply": "2021-06-16T07:58:29.165815Z",
          "shell.execute_reply.started": "2021-06-16T07:58:29.133506Z"
        },
        "id": "mmlin9CEzFr7",
        "trusted": true
      },
      "outputs": [],
      "source": [
        "import pickle\n",
        "\n",
        "\n",
        "pickle.dump(xgb_tuned,open(\"XGBoost.pkl\",\"wb\"))\n",
        "pickle.dump(rf_model,open(\"RandomForest.pkl\",\"wb\"))\n",
        "pickle.dump(gbc_tuned,open(\"GradientBoostC.pkl\",\"wb\"))"
      ]
    },
    {
      "cell_type": "markdown",
      "metadata": {
        "id": "r7sGSN6RJR6V"
      },
      "source": [
        "### Save and Export Variables as .pkl"
      ]
    },
    {
      "cell_type": "code",
      "execution_count": null,
      "metadata": {
        "execution": {
          "iopub.execute_input": "2021-06-16T07:58:29.169073Z",
          "iopub.status.busy": "2021-06-16T07:58:29.168209Z",
          "iopub.status.idle": "2021-06-16T07:58:29.189819Z",
          "shell.execute_reply": "2021-06-16T07:58:29.188958Z",
          "shell.execute_reply.started": "2021-06-16T07:58:29.169032Z"
        },
        "id": "2WeQNcROJScb",
        "trusted": true
      },
      "outputs": [],
      "source": [
        "xgb_model = pickle.load(open(\"XGBoost.pkl\",\"rb\"))\n",
        "rf_model = pickle.load(open(\"RandomForest.pkl\",\"rb\"))"
      ]
    },
    {
      "cell_type": "code",
      "execution_count": null,
      "metadata": {
        "execution": {
          "iopub.execute_input": "2021-06-16T07:58:29.191873Z",
          "iopub.status.busy": "2021-06-16T07:58:29.191317Z",
          "iopub.status.idle": "2021-06-16T07:58:29.199083Z",
          "shell.execute_reply": "2021-06-16T07:58:29.19682Z",
          "shell.execute_reply.started": "2021-06-16T07:58:29.191833Z"
        },
        "id": "GXUVHb7E5cft",
        "trusted": true
      },
      "outputs": [],
      "source": [
        "department_encode={'sales':7,\n",
        "                     'technical':9,\n",
        "                     'support':8,\n",
        "                     'IT':0,\n",
        "                     'product_mng':6,\n",
        "                     'marketing':5,\n",
        "                     'RandD':1,\n",
        "                     'accounting':2,\n",
        "                     'hr':3,\n",
        "                     'management':4}\n",
        "\n",
        "salary_encode = {'low':1,\n",
        "                 'medium':2,\n",
        "                 'high':3}"
      ]
    },
    {
      "cell_type": "code",
      "execution_count": null,
      "metadata": {
        "execution": {
          "iopub.execute_input": "2021-06-16T07:58:29.202616Z",
          "iopub.status.busy": "2021-06-16T07:58:29.200512Z",
          "iopub.status.idle": "2021-06-16T07:58:29.208901Z",
          "shell.execute_reply": "2021-06-16T07:58:29.207875Z",
          "shell.execute_reply.started": "2021-06-16T07:58:29.202583Z"
        },
        "id": "RyVvN7Xj5cft",
        "trusted": true
      },
      "outputs": [],
      "source": [
        "# my_dict = {'satisfaction_level':0.38,\n",
        "#            'last_evaluation':0.53,\n",
        "#            'number_project':2,\n",
        "#            'average_montly_hours':157,\n",
        "#            'time_spend_company':3,\n",
        "#            'Work_accident':0,\n",
        "# #            'left':1\n",
        "#            'promotion_last_5years':0,\n",
        "#            'Department':'sales',\n",
        "#            'salary':'low',\n",
        "#             }"
      ]
    },
    {
      "cell_type": "code",
      "execution_count": null,
      "metadata": {
        "execution": {
          "iopub.execute_input": "2021-06-16T07:58:29.210566Z",
          "iopub.status.busy": "2021-06-16T07:58:29.210051Z",
          "iopub.status.idle": "2021-06-16T07:58:29.221138Z",
          "shell.execute_reply": "2021-06-16T07:58:29.220243Z",
          "shell.execute_reply.started": "2021-06-16T07:58:29.210528Z"
        },
        "id": "NAy71RuQ5cft",
        "trusted": true
      },
      "outputs": [],
      "source": [
        "my_dict = {'satisfaction_level':0.05,\n",
        "           'last_evaluation':0.44,\n",
        "           'number_project':3,\n",
        "           'average_montly_hours':199,\n",
        "           'time_spend_company':2,\n",
        "           'Work_accident':0,\n",
        "#            'left':0\n",
        "           'promotion_last_5years':0,\n",
        "           'Department':'management',\n",
        "           'salary':'low',\n",
        "            }"
      ]
    },
    {
      "cell_type": "code",
      "execution_count": null,
      "metadata": {
        "execution": {
          "iopub.execute_input": "2021-06-16T07:58:29.222883Z",
          "iopub.status.busy": "2021-06-16T07:58:29.222276Z",
          "iopub.status.idle": "2021-06-16T07:58:29.248202Z",
          "shell.execute_reply": "2021-06-16T07:58:29.247224Z",
          "shell.execute_reply.started": "2021-06-16T07:58:29.222843Z"
        },
        "id": "ptHqr6GC5cft",
        "trusted": true
      },
      "outputs": [],
      "source": [
        "X = pd.DataFrame.from_dict([my_dict])\n",
        "X[['salary','Department']]=pd.concat([X.salary.map(salary_encode),X.Department.map(department_encode)],axis=1)"
      ]
    },
    {
      "cell_type": "code",
      "execution_count": null,
      "metadata": {
        "execution": {
          "iopub.execute_input": "2021-06-16T07:58:29.252856Z",
          "iopub.status.busy": "2021-06-16T07:58:29.249581Z",
          "iopub.status.idle": "2021-06-16T07:58:29.277733Z",
          "shell.execute_reply": "2021-06-16T07:58:29.27679Z",
          "shell.execute_reply.started": "2021-06-16T07:58:29.252816Z"
        },
        "id": "RqhuI6r-5cft",
        "trusted": true
      },
      "outputs": [],
      "source": [
        "prediction_XGB = xgb_model.predict(X)\n",
        "prediction_XGB"
      ]
    },
    {
      "cell_type": "code",
      "execution_count": null,
      "metadata": {
        "execution": {
          "iopub.execute_input": "2021-06-16T07:58:29.28286Z",
          "iopub.status.busy": "2021-06-16T07:58:29.279178Z",
          "iopub.status.idle": "2021-06-16T07:58:29.298729Z",
          "shell.execute_reply": "2021-06-16T07:58:29.297824Z",
          "shell.execute_reply.started": "2021-06-16T07:58:29.282817Z"
        },
        "id": "sQpKIwCW5cft",
        "trusted": true
      },
      "outputs": [],
      "source": [
        "print(\"The Churn : \",'Yes' if prediction_XGB[0] else 'No')"
      ]
    },
    {
      "cell_type": "code",
      "execution_count": null,
      "metadata": {
        "execution": {
          "iopub.execute_input": "2021-06-16T07:58:29.300338Z",
          "iopub.status.busy": "2021-06-16T07:58:29.299835Z",
          "iopub.status.idle": "2021-06-16T07:58:29.32386Z",
          "shell.execute_reply": "2021-06-16T07:58:29.323059Z",
          "shell.execute_reply.started": "2021-06-16T07:58:29.300302Z"
        },
        "id": "jiYImgh15cft",
        "trusted": true
      },
      "outputs": [],
      "source": [
        "prob_XGB = xgb_model.predict_proba(X)\n",
        "print(f'The Probability of the Customer Churn is %{round(prob_XGB[0][1]*100,3)}')"
      ]
    },
    {
      "cell_type": "code",
      "execution_count": null,
      "metadata": {
        "id": "NFhPU5po9TBP"
      },
      "outputs": [],
      "source": [
        "!pip install skl2onnx"
      ]
    },
    {
      "cell_type": "code",
      "execution_count": null,
      "metadata": {
        "id": "HxNYVQMd9iLz"
      },
      "outputs": [],
      "source": [
        "!pip install --upgrade onnx==1.14.1\n",
        "import skl2onnx\n",
        "from skl2onnx import convert_sklearn\n",
        "from skl2onnx.common.data_types import FloatTensorType"
      ]
    },
    {
      "cell_type": "code",
      "execution_count": null,
      "metadata": {
        "id": "k9G2bJMwL-nc"
      },
      "outputs": [],
      "source": [
        "initial_type = [('float_input', FloatTensorType([None, 2]))]\n",
        "onx = convert_sklearn(, initial_types=initial_type)\n",
        "with open(\"model.onnx\", \"wb\") as f:\n",
        "    f.write(onx.SerializeToString())"
      ]
    }
  ],
  "metadata": {
    "colab": {
      "provenance": []
    },
    "kernelspec": {
      "display_name": "Python 3",
      "language": "python",
      "name": "python3"
    },
    "language_info": {
      "codemirror_mode": {
        "name": "ipython",
        "version": 3
      },
      "file_extension": ".py",
      "mimetype": "text/x-python",
      "name": "python",
      "nbconvert_exporter": "python",
      "pygments_lexer": "ipython3",
      "version": "3.6.4"
    }
  },
  "nbformat": 4,
  "nbformat_minor": 0
}
